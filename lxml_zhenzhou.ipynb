{
 "cells": [
  {
   "cell_type": "code",
   "execution_count": 81,
   "metadata": {
    "collapsed": true
   },
   "outputs": [
    {
     "name": "stdout",
     "output_type": "stream",
     "text": [
      "{}\n-----------\n"
     ]
    }
   ],
   "source": [
    "from urllib.parse import urlencode\n",
    "from urllib.request import urlopen, Request\n",
    "import json\n",
    "from urllib.request import urlopen\n",
    "import json\n",
    "import requests\n",
    "\n",
    "session = requests.Session()  # params = {'username': 'username', 'password': 'password'}\n",
    "root_html = 'http://www.czce.com.cn/portal/index.htm'\n",
    "root_html = 'http://www.czce.com.cn/portal/index.htm'\n",
    "s = session.post(root_html)\n",
    "s = session.post('http://www.czce.com.cn/portal/jysj/qhjysj/ccpm/A09112003index_1.htm')\n",
    "\n",
    "print(s.cookies.get_dict())\n",
    "print(\"-----------\")\n",
    "# print(\"Going to profile page...\")\n",
    "# s = session.get(\"http://www.czce.com.cn/portal/DFSStaticFiles/Future/2018/20180309/FutureDataHolding.htm\")\n",
    "# http://www.czce.com.cn/portal/DFSStaticFiles/Future/2017/20171026/FutureDataDaily.xls\n",
    "# http://www.czce.com.cn/portal/DFSStaticFiles/Future/2018/20180416/FutureDataHolding.htm\n",
    "url = 'http://www.czce.com.cn/portal/DFSStaticFiles/Future/2018/20180416/FutureDataHolding.htm'\n",
    "s = session.get(url)\n",
    "s.encoding = 'gbk' \n",
    "print(s.text)\n",
    "# response.encoding = 'utf-8' "
   ]
  },
  {
   "cell_type": "code",
   "execution_count": 64,
   "metadata": {},
   "outputs": [
    {
     "name": "stdout",
     "output_type": "stream",
     "text": [
      "<Element html at 0x224374f0c78>\n<html>\n<head>\n<title>期货成交排名表</title>\n<LINK href=\"../../../scheme/css/data.css\" type=\"text/css\" rel=\"stylesheet\">\n<SCRIPT type=\"text/javascript\" src=\"../../../scheme/js/data.js\"></SCRIPT>\n</head>\n<body leftMargin=0 topmargin=\"0\" scroll=\"auto\" bgcolor=\"#eff5fb\">\n<table border=\"0\" align=\"center\" cellpadding=\"3\" cellspacing=\"0\" class=\"tablebg\" bgcolor=\"#eff5fb\">\n<tr>\n<td height=\"150\" class=\"td-noborder\"><div class=\"title\">期货成交排名表<hr></div>\n<div class=\"title2\">2018-04-16&nbsp;&nbsp;本月第9个交易日&nbsp;&nbsp;本年第68个交易日&nbsp;\n<OBJECT  id=WebBrowser  classid=CLSID:8856F961-340A-11D0-A96B-00C04FD705A2  height=0  width=0 VIEWASTEXT></OBJECT>\n<input type=button value=\"打印\" onclick=\"document.all.WebBrowser.ExecWB(6,1)\" class=\"button\"/> &nbsp;\n<input name=\"button2\"  type=\"button\" value=\"excel\" class=\"button\" onclick=\"javascript:window.open('FutureDataTradeamt.xls');\"/>\n<input name=\"button2\" type=\"button\"  value=\"txt\" class=\"button\" onclick=\"javascript:window.open('FutureDataTradeamt.txt');\"/> \n</div><br>\n<table  width=\"735\" border=\"0\"align=\"center\" cellpadding=\"2\" cellspacing=\"0\" class=\"table\"  id=\"senfe\">\n<tr class=\"tr0\">\n<td nowrap> 名次 </td>\n<td  nowrap> 会员号 </td>\n<td  nowrap> 会员简称 </td>\n<td  nowrap> 成交量（手）</td>\n<td  nowrap> 名次 </td>\n<td  nowrap> 会员号 </td>\n<td  nowrap> 会员简称 </td>\n<td  nowrap> 成交额（万元）</td>\n</tr>\n<tr>\n<td>1</td>\n<td  class=\"td-left\">0007</td>\n<td  class=\"td-left\">华泰期货</td>\n<td  class=\"td-right\">274,893</td>\n<td>1</td>\n<td  class=\"td-left\">0083</td>\n<td  class=\"td-left\">海通期货</td>\n<td  class=\"td-right\">1,110,974.41</td>\n</tr>\n<tr>\n<td>2</td>\n<td  class=\"td-left\">0216</td>\n<td  class=\"td-left\">建信期货</td>\n<td  class=\"td-right\">257,241</td>\n<td>2</td>\n<td  class=\"td-left\">0007</td>\n<td  class=\"td-left\">华泰期货</td>\n<td  class=\"td-right\">1,072,303.05</td>\n</tr>\n<tr>\n<td>3</td>\n<td  class=\"td-left\">0083</td>\n<td  class=\"td-left\">海通期货</td>\n<td  class=\"td-right\">244,780</td>\n<td>3</td>\n<td  class=\"td-left\">0216</td>\n<td  class=\"td-left\">建信期货</td>\n<td  class=\"td-right\">1,019,592.86</td>\n</tr>\n<tr>\n<td>4</td>\n<td  class=\"td-left\">0055</td>\n<td  class=\"td-left\">中信期货</td>\n<td  class=\"td-right\">176,061</td>\n<td>4</td>\n<td  class=\"td-left\">0055</td>\n<td  class=\"td-left\">中信期货</td>\n<td  class=\"td-right\">741,059.80</td>\n</tr>\n<tr>\n<td>5</td>\n<td  class=\"td-left\">0111</td>\n<td  class=\"td-left\">光大期货</td>\n<td  class=\"td-right\">159,222</td>\n<td>5</td>\n<td  class=\"td-left\">0111</td>\n<td  class=\"td-left\">光大期货</td>\n<td  class=\"td-right\">709,956.98</td>\n</tr>\n<tr>\n<td>6</td>\n<td  class=\"td-left\">0032</td>\n<td  class=\"td-left\">徽商期货</td>\n<td  class=\"td-right\">158,542</td>\n<td>6</td>\n<td  class=\"td-left\">0032</td>\n<td  class=\"td-left\">徽商期货</td>\n<td  class=\"td-right\">690,954.05</td>\n</tr>\n<tr>\n<td>7</td>\n<td  class=\"td-left\">0010</td>\n<td  class=\"td-left\">招商期货</td>\n<td  class=\"td-right\">139,606</td>\n<td>7</td>\n<td  class=\"td-left\">0010</td>\n<td  class=\"td-left\">招商期货</td>\n<td  class=\"td-right\">603,988.95</td>\n</tr>\n<tr>\n<td>8</td>\n<td  class=\"td-left\">0186</td>\n<td  class=\"td-left\">国泰君安</td>\n<td  class=\"td-right\">121,930</td>\n<td>8</td>\n<td  class=\"td-left\">0062</td>\n<td  class=\"td-left\">金瑞期货</td>\n<td  class=\"td-right\">583,415.44</td>\n</tr>\n<tr>\n<td>9</td>\n<td  class=\"td-left\">0188</td>\n<td  class=\"td-left\">永安期货</td>\n<td  class=\"td-right\">119,234</td>\n<td>9</td>\n<td  class=\"td-left\">0186</td>\n<td  class=\"td-left\">国泰君安</td>\n<td  class=\"td-right\">524,117.95</td>\n</tr>\n<tr>\n<td>10</td>\n<td  class=\"td-left\">0062</td>\n<td  class=\"td-left\">金瑞期货</td>\n<td  class=\"td-right\">117,531</td>\n<td>10</td>\n<td  class=\"td-left\">0188</td>\n<td  class=\"td-left\">永安期货</td>\n<td  class=\"td-right\">491,755.21</td>\n</tr>\n<tr>\n<td>11</td>\n<td  class=\"td-left\">0039</td>\n<td  class=\"td-left\">方正中期</td>\n<td  class=\"td-right\">111,621</td>\n<td>11</td>\n<td  class=\"td-left\">0039</td>\n<td  class=\"td-left\">方正中期</td>\n<td  class=\"td-right\">479,540.82</td>\n</tr>\n<tr>\n<td>12</td>\n<td  class=\"td-left\">0173</td>\n<td  class=\"td-left\">广发期货</td>\n<td  class=\"td-right\">99,792</td>\n<td>12</td>\n<td  class=\"td-left\">0268</td>\n<td  class=\"td-left\">兴证期货</td>\n<td  class=\"td-right\">462,688.83</td>\n</tr>\n<tr>\n<td>13</td>\n<td  class=\"td-left\">0268</td>\n<td  class=\"td-left\">兴证期货</td>\n<td  class=\"td-right\">97,152</td>\n<td>13</td>\n<td  class=\"td-left\">0209</td>\n<td  class=\"td-left\">华安期货</td>\n<td  class=\"td-right\">447,789.35</td>\n</tr>\n<tr>\n<td>14</td>\n<td  class=\"td-left\">0009</td>\n<td  class=\"td-left\">国投安信期货</td>\n<td  class=\"td-right\">96,848</td>\n<td>14</td>\n<td  class=\"td-left\">0173</td>\n<td  class=\"td-left\">广发期货</td>\n<td  class=\"td-right\">426,081.26</td>\n</tr>\n<tr>\n<td>15</td>\n<td  class=\"td-left\">0209</td>\n<td  class=\"td-left\">华安期货</td>\n<td  class=\"td-right\">96,169</td>\n<td>15</td>\n<td  class=\"td-left\">0202</td>\n<td  class=\"td-left\">中辉期货</td>\n<td  class=\"td-right\">424,934.25</td>\n</tr>\n<tr>\n<td>16</td>\n<td  class=\"td-left\">0142</td>\n<td  class=\"td-left\">东航期货</td>\n<td  class=\"td-right\">93,633</td>\n<td>16</td>\n<td  class=\"td-left\">0009</td>\n<td  class=\"td-left\">国投安信期货</td>\n<td  class=\"td-right\">407,931.41</td>\n</tr>\n<tr>\n<td>17</td>\n<td  class=\"td-left\">0202</td>\n<td  class=\"td-left\">中辉期货</td>\n<td  class=\"td-right\">92,000</td>\n<td>17</td>\n<td  class=\"td-left\">0142</td>\n<td  class=\"td-left\">东航期货</td>\n<td  class=\"td-right\">378,079.52</td>\n</tr>\n<tr>\n<td>18</td>\n<td  class=\"td-left\">0051</td>\n<td  class=\"td-left\">银河期货</td>\n<td  class=\"td-right\">90,527</td>\n<td>18</td>\n<td  class=\"td-left\">0193</td>\n<td  class=\"td-left\">西部期货</td>\n<td  class=\"td-right\">366,763.70</td>\n</tr>\n<tr>\n<td>19</td>\n<td  class=\"td-left\">0193</td>\n<td  class=\"td-left\">西部期货</td>\n<td  class=\"td-right\">79,482</td>\n<td>19</td>\n<td  class=\"td-left\">0051</td>\n<td  class=\"td-left\">银河期货</td>\n<td  class=\"td-right\">359,221.26</td>\n</tr>\n<tr>\n<td>20</td>\n<td  class=\"td-left\">0020</td>\n<td  class=\"td-left\">弘业期货</td>\n<td  class=\"td-right\">77,605</td>\n<td>20</td>\n<td  class=\"td-left\">0069</td>\n<td  class=\"td-left\">华信期货</td>\n<td  class=\"td-right\">342,240.09</td>\n</tr>\n<tr>\n<td>21</td>\n<td  class=\"td-left\">0203</td>\n<td  class=\"td-left\">宏源期货</td>\n<td  class=\"td-right\">73,169</td>\n<td>21</td>\n<td  class=\"td-left\">0203</td>\n<td  class=\"td-left\">宏源期货</td>\n<td  class=\"td-right\">334,722.11</td>\n</tr>\n<tr>\n<td>22</td>\n<td  class=\"td-left\">0210</td>\n<td  class=\"td-left\">东海期货</td>\n<td  class=\"td-right\">72,923</td>\n<td>22</td>\n<td  class=\"td-left\">0210</td>\n<td  class=\"td-left\">东海期货</td>\n<td  class=\"td-right\">327,740.23</td>\n</tr>\n<tr>\n<td>23</td>\n<td  class=\"td-left\">0038</td>\n<td  class=\"td-left\">申银万国</td>\n<td  class=\"td-right\">71,084</td>\n<td>23</td>\n<td  class=\"td-left\">0038</td>\n<td  class=\"td-left\">申银万国</td>\n<td  class=\"td-right\">314,143.88</td>\n</tr>\n<tr>\n<td>24</td>\n<td  class=\"td-left\">0069</td>\n<td  class=\"td-left\">华信期货</td>\n<td  class=\"td-right\">70,208</td>\n<td>24</td>\n<td  class=\"td-left\">0091</td>\n<td  class=\"td-left\">创元期货</td>\n<td  class=\"td-right\">307,080.81</td>\n</tr>\n<tr>\n<td>25</td>\n<td  class=\"td-left\">0212</td>\n<td  class=\"td-left\">南华期货</td>\n<td  class=\"td-right\">69,876</td>\n<td>25</td>\n<td  class=\"td-left\">0139</td>\n<td  class=\"td-left\">安粮期货</td>\n<td  class=\"td-right\">298,791.51</td>\n</tr>\n<tr>\n<td>26</td>\n<td  class=\"td-left\">0109</td>\n<td  class=\"td-left\">东证期货</td>\n<td  class=\"td-right\">69,653</td>\n<td>26</td>\n<td  class=\"td-left\">0189</td>\n<td  class=\"td-left\">冠通期货</td>\n<td  class=\"td-right\">293,513.42</td>\n</tr>\n<tr>\n<td>27</td>\n<td  class=\"td-left\">0091</td>\n<td  class=\"td-left\">创元期货</td>\n<td  class=\"td-right\">67,647</td>\n<td>27</td>\n<td  class=\"td-left\">0020</td>\n<td  class=\"td-left\">弘业期货</td>\n<td  class=\"td-right\">286,775.93</td>\n</tr>\n<tr>\n<td>28</td>\n<td  class=\"td-left\">0139</td>\n<td  class=\"td-left\">安粮期货</td>\n<td  class=\"td-right\">65,214</td>\n<td>28</td>\n<td  class=\"td-left\">0109</td>\n<td  class=\"td-left\">东证期货</td>\n<td  class=\"td-right\">285,972.35</td>\n</tr>\n<tr>\n<td>29</td>\n<td  class=\"td-left\">0189</td>\n<td  class=\"td-left\">冠通期货</td>\n<td  class=\"td-right\">61,995</td>\n<td>29</td>\n<td  class=\"td-left\">0212</td>\n<td  class=\"td-left\">南华期货</td>\n<td  class=\"td-right\">276,373.11</td>\n</tr>\n<tr>\n<td>30</td>\n<td  class=\"td-left\">0241</td>\n<td  class=\"td-left\">首创期货</td>\n<td  class=\"td-right\">61,065</td>\n<td>30</td>\n<td  class=\"td-left\">0168</td>\n<td  class=\"td-left\">中信建投</td>\n<td  class=\"td-right\">275,058.89</td>\n</tr>\n<tr>\n<td>31</td>\n<td  class=\"td-left\">0101</td>\n<td  class=\"td-left\">国贸期货</td>\n<td  class=\"td-right\">60,267</td>\n<td>31</td>\n<td  class=\"td-left\">0241</td>\n<td  class=\"td-left\">首创期货</td>\n<td  class=\"td-right\">253,581.35</td>\n</tr>\n<tr>\n<td>32</td>\n<td  class=\"td-left\">0068</td>\n<td  class=\"td-left\">中粮期货</td>\n<td  class=\"td-right\">57,504</td>\n<td>32</td>\n<td  class=\"td-left\">0068</td>\n<td  class=\"td-left\">中粮期货</td>\n<td  class=\"td-right\">246,601.05</td>\n</tr>\n<tr>\n<td>33</td>\n<td  class=\"td-left\">0168</td>\n<td  class=\"td-left\">中信建投</td>\n<td  class=\"td-right\">55,438</td>\n<td>33</td>\n<td  class=\"td-left\">0101</td>\n<td  class=\"td-left\">国贸期货</td>\n<td  class=\"td-right\">231,898.80</td>\n</tr>\n<tr>\n<td>34</td>\n<td  class=\"td-left\">0076</td>\n<td  class=\"td-left\">长江期货</td>\n<td  class=\"td-right\">48,600</td>\n<td>34</td>\n<td  class=\"td-left\">0076</td>\n<td  class=\"td-left\">长江期货</td>\n<td  class=\"td-right\">197,493.91</td>\n</tr>\n<tr>\n<td>35</td>\n<td  class=\"td-left\">0190</td>\n<td  class=\"td-left\">国海良时</td>\n<td  class=\"td-right\">47,613</td>\n<td>35</td>\n<td  class=\"td-left\">0018</td>\n<td  class=\"td-left\">国信期货</td>\n<td  class=\"td-right\">193,144.15</td>\n</tr>\n<tr>\n<td>36</td>\n<td  class=\"td-left\">0018</td>\n<td  class=\"td-left\">国信期货</td>\n<td  class=\"td-right\">45,721</td>\n<td>36</td>\n<td  class=\"td-left\">0058</td>\n<td  class=\"td-left\">鲁证期货</td>\n<td  class=\"td-right\">191,806.26</td>\n</tr>\n<tr>\n<td>37</td>\n<td  class=\"td-left\">0058</td>\n<td  class=\"td-left\">鲁证期货</td>\n<td  class=\"td-right\">43,800</td>\n<td>37</td>\n<td  class=\"td-left\">0190</td>\n<td  class=\"td-left\">国海良时</td>\n<td  class=\"td-right\">190,234.10</td>\n</tr>\n<tr>\n<td>38</td>\n<td  class=\"td-left\">0163</td>\n<td  class=\"td-left\">五矿经易期货</td>\n<td  class=\"td-right\">41,365</td>\n<td>38</td>\n<td  class=\"td-left\">0191</td>\n<td  class=\"td-left\">广州金控</td>\n<td  class=\"td-right\">171,221.26</td>\n</tr>\n<tr>\n<td>39</td>\n<td  class=\"td-left\">0113</td>\n<td  class=\"td-left\">浙商期货</td>\n<td  class=\"td-right\">39,495</td>\n<td>39</td>\n<td  class=\"td-left\">0113</td>\n<td  class=\"td-left\">浙商期货</td>\n<td  class=\"td-right\">165,054.47</td>\n</tr>\n<tr>\n<td>40</td>\n<td  class=\"td-left\">0141</td>\n<td  class=\"td-left\">中国国际</td>\n<td  class=\"td-right\">37,341</td>\n<td>40</td>\n<td  class=\"td-left\">0141</td>\n<td  class=\"td-left\">中国国际</td>\n<td  class=\"td-right\">163,983.75</td>\n</tr>\n<tr>\n<td>41</td>\n<td  class=\"td-left\">0095</td>\n<td  class=\"td-left\">大地期货</td>\n<td  class=\"td-right\">37,150</td>\n<td>41</td>\n<td  class=\"td-left\">0185</td>\n<td  class=\"td-left\">东吴期货</td>\n<td  class=\"td-right\">158,435.62</td>\n</tr>\n<tr>\n<td>42</td>\n<td  class=\"td-left\">0185</td>\n<td  class=\"td-left\">东吴期货</td>\n<td  class=\"td-right\">36,654</td>\n<td>42</td>\n<td  class=\"td-left\">0095</td>\n<td  class=\"td-left\">大地期货</td>\n<td  class=\"td-right\">150,007.36</td>\n</tr>\n<tr>\n<td>43</td>\n<td  class=\"td-left\">0174</td>\n<td  class=\"td-left\">国联期货</td>\n<td  class=\"td-right\">36,109</td>\n<td>43</td>\n<td  class=\"td-left\">0234</td>\n<td  class=\"td-left\">新湖期货</td>\n<td  class=\"td-right\">149,329.12</td>\n</tr>\n<tr>\n<td>44</td>\n<td  class=\"td-left\">0191</td>\n<td  class=\"td-left\">广州金控</td>\n<td  class=\"td-right\">35,311</td>\n<td>44</td>\n<td  class=\"td-left\">0278</td>\n<td  class=\"td-left\">平安期货</td>\n<td  class=\"td-right\">148,419.92</td>\n</tr>\n<tr>\n<td>45</td>\n<td  class=\"td-left\">0234</td>\n<td  class=\"td-left\">新湖期货</td>\n<td  class=\"td-right\">34,890</td>\n<td>45</td>\n<td  class=\"td-left\">0008</td>\n<td  class=\"td-left\">上海大陆</td>\n<td  class=\"td-right\">147,604.62</td>\n</tr>\n<tr>\n<td>46</td>\n<td  class=\"td-left\">0278</td>\n<td  class=\"td-left\">平安期货</td>\n<td  class=\"td-right\">33,717</td>\n<td>46</td>\n<td  class=\"td-left\">0163</td>\n<td  class=\"td-left\">五矿经易期货</td>\n<td  class=\"td-right\">143,931.05</td>\n</tr>\n<tr>\n<td>47</td>\n<td  class=\"td-left\">0008</td>\n<td  class=\"td-left\">上海大陆</td>\n<td  class=\"td-right\">33,109</td>\n<td>47</td>\n<td  class=\"td-left\">0107</td>\n<td  class=\"td-left\">美尔雅</td>\n<td  class=\"td-right\">142,913.94</td>\n</tr>\n<tr>\n<td>48</td>\n<td  class=\"td-left\">0179</td>\n<td  class=\"td-left\">上海中期</td>\n<td  class=\"td-right\">32,652</td>\n<td>48</td>\n<td  class=\"td-left\">0016</td>\n<td  class=\"td-left\">格林大华期货</td>\n<td  class=\"td-right\">140,460.62</td>\n</tr>\n<tr>\n<td>49</td>\n<td  class=\"td-left\">0107</td>\n<td  class=\"td-left\">美尔雅</td>\n<td  class=\"td-right\">32,274</td>\n<td>49</td>\n<td  class=\"td-left\">0174</td>\n<td  class=\"td-left\">国联期货</td>\n<td  class=\"td-right\">137,377.58</td>\n</tr>\n<tr>\n<td>50</td>\n<td  class=\"td-left\">0094</td>\n<td  class=\"td-left\">兴业期货</td>\n<td  class=\"td-right\">30,961</td>\n<td>50</td>\n<td  class=\"td-left\">0262</td>\n<td  class=\"td-left\">一德期货</td>\n<td  class=\"td-right\">136,974.69</td>\n</tr>\n<tr>\n<td>51</td>\n<td  class=\"td-left\">0016</td>\n<td  class=\"td-left\">格林大华期货</td>\n<td  class=\"td-right\">28,989</td>\n<td>51</td>\n<td  class=\"td-left\">0147</td>\n<td  class=\"td-left\">长安期货</td>\n<td  class=\"td-right\">133,388.46</td>\n</tr>\n<tr>\n<td>52</td>\n<td  class=\"td-left\">0121</td>\n<td  class=\"td-left\">瑞达期货</td>\n<td  class=\"td-right\">28,668</td>\n<td>52</td>\n<td  class=\"td-left\">0179</td>\n<td  class=\"td-left\">上海中期</td>\n<td  class=\"td-right\">132,678.14</td>\n</tr>\n<tr>\n<td>53</td>\n<td  class=\"td-left\">0001</td>\n<td  class=\"td-left\">华西期货</td>\n<td  class=\"td-right\">27,974</td>\n<td>53</td>\n<td  class=\"td-left\">0001</td>\n<td  class=\"td-left\">华西期货</td>\n<td  class=\"td-right\">132,343.98</td>\n</tr>\n<tr>\n<td>54</td>\n<td  class=\"td-left\">0147</td>\n<td  class=\"td-left\">长安期货</td>\n<td  class=\"td-right\">27,269</td>\n<td>54</td>\n<td  class=\"td-left\">0222</td>\n<td  class=\"td-left\">海证期货</td>\n<td  class=\"td-right\">131,234.92</td>\n</tr>\n<tr>\n<td>55</td>\n<td  class=\"td-left\">0183</td>\n<td  class=\"td-left\">华鑫期货</td>\n<td  class=\"td-right\">27,256</td>\n<td>55</td>\n<td  class=\"td-left\">0121</td>\n<td  class=\"td-left\">瑞达期货</td>\n<td  class=\"td-right\">127,967.17</td>\n</tr>\n<tr>\n<td>56</td>\n<td  class=\"td-left\">0017</td>\n<td  class=\"td-left\">中财期货</td>\n<td  class=\"td-right\">27,016</td>\n<td>56</td>\n<td  class=\"td-left\">0149</td>\n<td  class=\"td-left\">大有期货</td>\n<td  class=\"td-right\">123,748.27</td>\n</tr>\n<tr>\n<td>57</td>\n<td  class=\"td-left\">0262</td>\n<td  class=\"td-left\">一德期货</td>\n<td  class=\"td-right\">26,398</td>\n<td>57</td>\n<td  class=\"td-left\">0215</td>\n<td  class=\"td-left\">深圳瑞龙</td>\n<td  class=\"td-right\">112,307.26</td>\n</tr>\n<tr>\n<td>58</td>\n<td  class=\"td-left\">0043</td>\n<td  class=\"td-left\">国元期货</td>\n<td  class=\"td-right\">26,253</td>\n<td>58</td>\n<td  class=\"td-left\">0017</td>\n<td  class=\"td-left\">中财期货</td>\n<td  class=\"td-right\">109,925.61</td>\n</tr>\n<tr>\n<td>59</td>\n<td  class=\"td-left\">0222</td>\n<td  class=\"td-left\">海证期货</td>\n<td  class=\"td-right\">26,077</td>\n<td>59</td>\n<td  class=\"td-left\">0110</td>\n<td  class=\"td-left\">国金期货</td>\n<td  class=\"td-right\">108,672.17</td>\n</tr>\n<tr>\n<td>60</td>\n<td  class=\"td-left\">0215</td>\n<td  class=\"td-left\">深圳瑞龙</td>\n<td  class=\"td-right\">25,587</td>\n<td>60</td>\n<td  class=\"td-left\">0011</td>\n<td  class=\"td-left\">宝城期货</td>\n<td  class=\"td-right\">108,446.47</td>\n</tr>\n<tr>\n<td>61</td>\n<td  class=\"td-left\">0110</td>\n<td  class=\"td-left\">国金期货</td>\n<td  class=\"td-right\">25,326</td>\n<td>61</td>\n<td  class=\"td-left\">0094</td>\n<td  class=\"td-left\">兴业期货</td>\n<td  class=\"td-right\">106,433.70</td>\n</tr>\n<tr>\n<td>62</td>\n<td  class=\"td-left\">0011</td>\n<td  class=\"td-left\">宝城期货</td>\n<td  class=\"td-right\">25,235</td>\n<td>62</td>\n<td  class=\"td-left\">0052</td>\n<td  class=\"td-left\">渤海期货</td>\n<td  class=\"td-right\">105,457.86</td>\n</tr>\n<tr>\n<td>63</td>\n<td  class=\"td-left\">0258</td>\n<td  class=\"td-left\">中衍期货</td>\n<td  class=\"td-right\">24,242</td>\n<td>63</td>\n<td  class=\"td-left\">0258</td>\n<td  class=\"td-left\">中衍期货</td>\n<td  class=\"td-right\">104,412.60</td>\n</tr>\n<tr>\n<td>64</td>\n<td  class=\"td-left\">0114</td>\n<td  class=\"td-left\">信达期货</td>\n<td  class=\"td-right\">23,413</td>\n<td>64</td>\n<td  class=\"td-left\">0183</td>\n<td  class=\"td-left\">华鑫期货</td>\n<td  class=\"td-right\">103,914.91</td>\n</tr>\n<tr>\n<td>65</td>\n<td  class=\"td-left\">0052</td>\n<td  class=\"td-left\">渤海期货</td>\n<td  class=\"td-right\">23,289</td>\n<td>65</td>\n<td  class=\"td-left\">0160</td>\n<td  class=\"td-left\">国富期货</td>\n<td  class=\"td-right\">99,785.45</td>\n</tr>\n<tr>\n<td>66</td>\n<td  class=\"td-left\">0149</td>\n<td  class=\"td-left\">大有期货</td>\n<td  class=\"td-right\">23,149</td>\n<td>66</td>\n<td  class=\"td-left\">0114</td>\n<td  class=\"td-left\">信达期货</td>\n<td  class=\"td-right\">98,361.69</td>\n</tr>\n<tr>\n<td>67</td>\n<td  class=\"td-left\">0088</td>\n<td  class=\"td-left\">中原期货</td>\n<td  class=\"td-right\">23,092</td>\n<td>67</td>\n<td  class=\"td-left\">0043</td>\n<td  class=\"td-left\">国元期货</td>\n<td  class=\"td-right\">98,013.92</td>\n</tr>\n<tr>\n<td>68</td>\n<td  class=\"td-left\">0160</td>\n<td  class=\"td-left\">国富期货</td>\n<td  class=\"td-right\">22,791</td>\n<td>68</td>\n<td  class=\"td-left\">0198</td>\n<td  class=\"td-left\">英大期货</td>\n<td  class=\"td-right\">94,738.21</td>\n</tr>\n<tr>\n<td>69</td>\n<td  class=\"td-left\">0225</td>\n<td  class=\"td-left\">广州期货</td>\n<td  class=\"td-right\">21,019</td>\n<td>69</td>\n<td  class=\"td-left\">0088</td>\n<td  class=\"td-left\">中原期货</td>\n<td  class=\"td-right\">93,611.60</td>\n</tr>\n<tr>\n<td>70</td>\n<td  class=\"td-left\">0198</td>\n<td  class=\"td-left\">英大期货</td>\n<td  class=\"td-right\">20,604</td>\n<td>70</td>\n<td  class=\"td-left\">0225</td>\n<td  class=\"td-left\">广州期货</td>\n<td  class=\"td-right\">92,106.36</td>\n</tr>\n<tr>\n<td>71</td>\n<td  class=\"td-left\">0175</td>\n<td  class=\"td-left\">中大期货</td>\n<td  class=\"td-right\">19,649</td>\n<td>71</td>\n<td  class=\"td-left\">0087</td>\n<td  class=\"td-left\">铜冠金源</td>\n<td  class=\"td-right\">92,101.51</td>\n</tr>\n<tr>\n<td>72</td>\n<td  class=\"td-left\">0087</td>\n<td  class=\"td-left\">铜冠金源</td>\n<td  class=\"td-right\">19,181</td>\n<td>72</td>\n<td  class=\"td-left\">0175</td>\n<td  class=\"td-left\">中大期货</td>\n<td  class=\"td-right\">88,009.31</td>\n</tr>\n<tr>\n<td>73</td>\n<td  class=\"td-left\">0178</td>\n<td  class=\"td-left\">倍特期货</td>\n<td  class=\"td-right\">17,508</td>\n<td>73</td>\n<td  class=\"td-left\">0103</td>\n<td  class=\"td-left\">招金期货</td>\n<td  class=\"td-right\">77,401.94</td>\n</tr>\n<tr>\n<td>74</td>\n<td  class=\"td-left\">0080</td>\n<td  class=\"td-left\">福能期货</td>\n<td  class=\"td-right\">17,456</td>\n<td>74</td>\n<td  class=\"td-left\">0080</td>\n<td  class=\"td-left\">福能期货</td>\n<td  class=\"td-right\">77,068.89</td>\n</tr>\n<tr>\n<td>75</td>\n<td  class=\"td-left\">0103</td>\n<td  class=\"td-left\">招金期货</td>\n<td  class=\"td-right\">15,605</td>\n<td>75</td>\n<td  class=\"td-left\">0206</td>\n<td  class=\"td-left\">中电投先融</td>\n<td  class=\"td-right\">72,741.70</td>\n</tr>\n<tr>\n<td>76</td>\n<td  class=\"td-left\">0269</td>\n<td  class=\"td-left\">同信久恒</td>\n<td  class=\"td-right\">15,110</td>\n<td>76</td>\n<td  class=\"td-left\">0102</td>\n<td  class=\"td-left\">迈科期货</td>\n<td  class=\"td-right\">68,152.51</td>\n</tr>\n<tr>\n<td>77</td>\n<td  class=\"td-left\">0102</td>\n<td  class=\"td-left\">迈科期货</td>\n<td  class=\"td-right\">14,864</td>\n<td>77</td>\n<td  class=\"td-left\">0178</td>\n<td  class=\"td-left\">倍特期货</td>\n<td  class=\"td-right\">67,653.65</td>\n</tr>\n<tr>\n<td>78</td>\n<td  class=\"td-left\">0005</td>\n<td  class=\"td-left\">新纪元期货</td>\n<td  class=\"td-right\">14,078</td>\n<td>78</td>\n<td  class=\"td-left\">0155</td>\n<td  class=\"td-left\">中投天琪</td>\n<td  class=\"td-right\">63,532.89</td>\n</tr>\n<tr>\n<td>79</td>\n<td  class=\"td-left\">0155</td>\n<td  class=\"td-left\">中投天琪</td>\n<td  class=\"td-right\">14,047</td>\n<td>79</td>\n<td  class=\"td-left\">0005</td>\n<td  class=\"td-left\">新纪元期货</td>\n<td  class=\"td-right\">59,536.05</td>\n</tr>\n<tr>\n<td>80</td>\n<td  class=\"td-left\">0206</td>\n<td  class=\"td-left\">中电投先融</td>\n<td  class=\"td-right\">14,032</td>\n<td>80</td>\n<td  class=\"td-left\">0269</td>\n<td  class=\"td-left\">同信久恒</td>\n<td  class=\"td-right\">58,907.02</td>\n</tr>\n<tr>\n<td>81</td>\n<td  class=\"td-left\">0236</td>\n<td  class=\"td-left\">通惠期货</td>\n<td  class=\"td-right\">12,999</td>\n<td>81</td>\n<td  class=\"td-left\">0060</td>\n<td  class=\"td-left\">东兴期货</td>\n<td  class=\"td-right\">53,012.78</td>\n</tr>\n<tr>\n<td>82</td>\n<td  class=\"td-left\">0133</td>\n<td  class=\"td-left\">华联期货</td>\n<td  class=\"td-right\">12,684</td>\n<td>82</td>\n<td  class=\"td-left\">0133</td>\n<td  class=\"td-left\">华联期货</td>\n<td  class=\"td-right\">52,809.73</td>\n</tr>\n<tr>\n<td>83</td>\n<td  class=\"td-left\">0254</td>\n<td  class=\"td-left\">大越期货</td>\n<td  class=\"td-right\">11,909</td>\n<td>83</td>\n<td  class=\"td-left\">0226</td>\n<td  class=\"td-left\">德盛期货</td>\n<td  class=\"td-right\">51,421.95</td>\n</tr>\n<tr>\n<td>84</td>\n<td  class=\"td-left\">0226</td>\n<td  class=\"td-left\">德盛期货</td>\n<td  class=\"td-right\">11,734</td>\n<td>84</td>\n<td  class=\"td-left\">0243</td>\n<td  class=\"td-left\">锦泰期货</td>\n<td  class=\"td-right\">50,815.15</td>\n</tr>\n<tr>\n<td>85</td>\n<td  class=\"td-left\">0246</td>\n<td  class=\"td-left\">恒泰期货</td>\n<td  class=\"td-right\">11,620</td>\n<td>85</td>\n<td  class=\"td-left\">0246</td>\n<td  class=\"td-left\">恒泰期货</td>\n<td  class=\"td-right\">48,500.29</td>\n</tr>\n<tr>\n<td>86</td>\n<td  class=\"td-left\">0123</td>\n<td  class=\"td-left\">浙江新世纪</td>\n<td  class=\"td-right\">11,533</td>\n<td>86</td>\n<td  class=\"td-left\">0123</td>\n<td  class=\"td-left\">浙江新世纪</td>\n<td  class=\"td-right\">47,998.52</td>\n</tr>\n<tr>\n<td>87</td>\n<td  class=\"td-left\">0060</td>\n<td  class=\"td-left\">东兴期货</td>\n<td  class=\"td-right\">11,438</td>\n<td>87</td>\n<td  class=\"td-left\">0254</td>\n<td  class=\"td-left\">大越期货</td>\n<td  class=\"td-right\">47,920.16</td>\n</tr>\n<tr>\n<td>88</td>\n<td  class=\"td-left\">0037</td>\n<td  class=\"td-left\">集成期货</td>\n<td  class=\"td-right\">11,139</td>\n<td>88</td>\n<td  class=\"td-left\">0086</td>\n<td  class=\"td-left\">金元期货</td>\n<td  class=\"td-right\">42,929.78</td>\n</tr>\n<tr>\n<td>89</td>\n<td  class=\"td-left\">0243</td>\n<td  class=\"td-left\">锦泰期货</td>\n<td  class=\"td-right\">10,510</td>\n<td>89</td>\n<td  class=\"td-left\">0037</td>\n<td  class=\"td-left\">集成期货</td>\n<td  class=\"td-right\">41,184.64</td>\n</tr>\n<tr>\n<td>90</td>\n<td  class=\"td-left\">0086</td>\n<td  class=\"td-left\">金元期货</td>\n<td  class=\"td-right\">9,825</td>\n<td>90</td>\n<td  class=\"td-left\">0196</td>\n<td  class=\"td-left\">混沌天成期货</td>\n<td  class=\"td-right\">39,128.97</td>\n</tr>\n<tr>\n<td>91</td>\n<td  class=\"td-left\">0026</td>\n<td  class=\"td-left\">海航期货</td>\n<td  class=\"td-right\">8,109</td>\n<td>91</td>\n<td  class=\"td-left\">0117</td>\n<td  class=\"td-left\">国都期货</td>\n<td  class=\"td-right\">38,735.53</td>\n</tr>\n<tr>\n<td>92</td>\n<td  class=\"td-left\">0159</td>\n<td  class=\"td-left\">中天期货</td>\n<td  class=\"td-right\">7,574</td>\n<td>92</td>\n<td  class=\"td-left\">0236</td>\n<td  class=\"td-left\">通惠期货</td>\n<td  class=\"td-right\">36,869.70</td>\n</tr>\n<tr>\n<td>93</td>\n<td  class=\"td-left\">0196</td>\n<td  class=\"td-left\">混沌天成期货</td>\n<td  class=\"td-right\">7,449</td>\n<td>93</td>\n<td  class=\"td-left\">0026</td>\n<td  class=\"td-left\">海航期货</td>\n<td  class=\"td-right\">35,652.29</td>\n</tr>\n<tr>\n<td>94</td>\n<td  class=\"td-left\">0022</td>\n<td  class=\"td-left\">江西瑞奇</td>\n<td  class=\"td-right\">7,440</td>\n<td>94</td>\n<td  class=\"td-left\">0159</td>\n<td  class=\"td-left\">中天期货</td>\n<td  class=\"td-right\">34,979.22</td>\n</tr>\n<tr>\n<td>95</td>\n<td  class=\"td-left\">0146</td>\n<td  class=\"td-left\">和合期货</td>\n<td  class=\"td-right\">7,374</td>\n<td>95</td>\n<td  class=\"td-left\">0022</td>\n<td  class=\"td-left\">江西瑞奇</td>\n<td  class=\"td-right\">33,134.06</td>\n</tr>\n<tr>\n<td>96</td>\n<td  class=\"td-left\">0274</td>\n<td  class=\"td-left\">神华期货</td>\n<td  class=\"td-right\">7,350</td>\n<td>96</td>\n<td  class=\"td-left\">0148</td>\n<td  class=\"td-left\">民生期货</td>\n<td  class=\"td-right\">32,272.81</td>\n</tr>\n<tr>\n<td>97</td>\n<td  class=\"td-left\">0117</td>\n<td  class=\"td-left\">国都期货</td>\n<td  class=\"td-right\">7,271</td>\n<td>97</td>\n<td  class=\"td-left\">0274</td>\n<td  class=\"td-left\">神华期货</td>\n<td  class=\"td-right\">31,620.34</td>\n</tr>\n<tr>\n<td>98</td>\n<td  class=\"td-left\">0081</td>\n<td  class=\"td-left\">南证期货</td>\n<td  class=\"td-right\">6,907</td>\n<td>98</td>\n<td  class=\"td-left\">0275</td>\n<td  class=\"td-left\">华闻期货</td>\n<td  class=\"td-right\">29,969.45</td>\n</tr>\n<tr>\n<td>99</td>\n<td  class=\"td-left\">0061</td>\n<td  class=\"td-left\">中融汇信</td>\n<td  class=\"td-right\">6,542</td>\n<td>99</td>\n<td  class=\"td-left\">0050</td>\n<td  class=\"td-left\">金石期货</td>\n<td  class=\"td-right\">29,645.76</td>\n</tr>\n<tr>\n<td>100</td>\n<td  class=\"td-left\">0148</td>\n<td  class=\"td-left\">民生期货</td>\n<td  class=\"td-right\">6,489</td>\n<td>100</td>\n<td  class=\"td-left\">0146</td>\n<td  class=\"td-left\">和合期货</td>\n<td  class=\"td-right\">29,473.26</td>\n</tr>\n<tr>\n<td>101</td>\n<td  class=\"td-left\">0138</td>\n<td  class=\"td-left\">金鹏期货</td>\n<td  class=\"td-right\">6,365</td>\n<td>101</td>\n<td  class=\"td-left\">0138</td>\n<td  class=\"td-left\">金鹏期货</td>\n<td  class=\"td-right\">27,976.68</td>\n</tr>\n<tr>\n<td>102</td>\n<td  class=\"td-left\">0075</td>\n<td  class=\"td-left\">东方汇金期货</td>\n<td  class=\"td-right\">6,225</td>\n<td>102</td>\n<td  class=\"td-left\">0075</td>\n<td  class=\"td-left\">东方汇金期货</td>\n<td  class=\"td-right\">27,786.79</td>\n</tr>\n<tr>\n<td>103</td>\n<td  class=\"td-left\">0161</td>\n<td  class=\"td-left\">中州期货</td>\n<td  class=\"td-right\">6,197</td>\n<td>103</td>\n<td  class=\"td-left\">0021</td>\n<td  class=\"td-left\">上海东方</td>\n<td  class=\"td-right\">26,762.21</td>\n</tr>\n<tr>\n<td>104</td>\n<td  class=\"td-left\">0050</td>\n<td  class=\"td-left\">金石期货</td>\n<td  class=\"td-right\">5,646</td>\n<td>104</td>\n<td  class=\"td-left\">0061</td>\n<td  class=\"td-left\">中融汇信</td>\n<td  class=\"td-right\">26,339.87</td>\n</tr>\n<tr>\n<td>105</td>\n<td  class=\"td-left\">0118</td>\n<td  class=\"td-left\">九州期货</td>\n<td  class=\"td-right\">5,511</td>\n<td>105</td>\n<td  class=\"td-left\">0108</td>\n<td  class=\"td-left\">华融期货</td>\n<td  class=\"td-right\">23,896.38</td>\n</tr>\n<tr>\n<td>106</td>\n<td  class=\"td-left\">0156</td>\n<td  class=\"td-left\">天风期货</td>\n<td  class=\"td-right\">5,413</td>\n<td>106</td>\n<td  class=\"td-left\">0161</td>\n<td  class=\"td-left\">中州期货</td>\n<td  class=\"td-right\">23,872.01</td>\n</tr>\n<tr>\n<td>107</td>\n<td  class=\"td-left\">0027</td>\n<td  class=\"td-left\">中航期货</td>\n<td  class=\"td-right\">5,389</td>\n<td>107</td>\n<td  class=\"td-left\">0081</td>\n<td  class=\"td-left\">南证期货</td>\n<td  class=\"td-right\">23,838.42</td>\n</tr>\n<tr>\n<td>108</td>\n<td  class=\"td-left\">0108</td>\n<td  class=\"td-left\">华融期货</td>\n<td  class=\"td-right\">5,337</td>\n<td>108</td>\n<td  class=\"td-left\">0122</td>\n<td  class=\"td-left\">华创期货</td>\n<td  class=\"td-right\">23,041.15</td>\n</tr>\n<tr>\n<td>109</td>\n<td  class=\"td-left\">0275</td>\n<td  class=\"td-left\">华闻期货</td>\n<td  class=\"td-right\">5,330</td>\n<td>109</td>\n<td  class=\"td-left\">0156</td>\n<td  class=\"td-left\">天风期货</td>\n<td  class=\"td-right\">22,842.44</td>\n</tr>\n<tr>\n<td>110</td>\n<td  class=\"td-left\">0092</td>\n<td  class=\"td-left\">山金期货</td>\n<td  class=\"td-right\">5,230</td>\n<td>110</td>\n<td  class=\"td-left\">0176</td>\n<td  class=\"td-left\">道通期货</td>\n<td  class=\"td-right\">22,746.46</td>\n</tr>\n<tr>\n<td>111</td>\n<td  class=\"td-left\">0122</td>\n<td  class=\"td-left\">华创期货</td>\n<td  class=\"td-right\">5,199</td>\n<td>111</td>\n<td  class=\"td-left\">0092</td>\n<td  class=\"td-left\">山金期货</td>\n<td  class=\"td-right\">21,928.72</td>\n</tr>\n<tr>\n<td>112</td>\n<td  class=\"td-left\">0021</td>\n<td  class=\"td-left\">上海东方</td>\n<td  class=\"td-right\">5,067</td>\n<td>112</td>\n<td  class=\"td-left\">0027</td>\n<td  class=\"td-left\">中航期货</td>\n<td  class=\"td-right\">21,764.99</td>\n</tr>\n<tr>\n<td>113</td>\n<td  class=\"td-left\">0199</td>\n<td  class=\"td-left\">汇鑫期货</td>\n<td  class=\"td-right\">5,042</td>\n<td>113</td>\n<td  class=\"td-left\">0199</td>\n<td  class=\"td-left\">汇鑫期货</td>\n<td  class=\"td-right\">20,720.77</td>\n</tr>\n<tr>\n<td>114</td>\n<td  class=\"td-left\">0071</td>\n<td  class=\"td-left\">西南期货</td>\n<td  class=\"td-right\">5,022</td>\n<td>114</td>\n<td  class=\"td-left\">0118</td>\n<td  class=\"td-left\">九州期货</td>\n<td  class=\"td-right\">20,493.35</td>\n</tr>\n<tr>\n<td>115</td>\n<td  class=\"td-left\">0176</td>\n<td  class=\"td-left\">道通期货</td>\n<td  class=\"td-right\">4,188</td>\n<td>115</td>\n<td  class=\"td-left\">0232</td>\n<td  class=\"td-left\">金信期货</td>\n<td  class=\"td-right\">19,893.94</td>\n</tr>\n<tr>\n<td>116</td>\n<td  class=\"td-left\">0169</td>\n<td  class=\"td-left\">鑫鼎盛期货</td>\n<td  class=\"td-right\">4,154</td>\n<td>116</td>\n<td  class=\"td-left\">0071</td>\n<td  class=\"td-left\">西南期货</td>\n<td  class=\"td-right\">18,174.75</td>\n</tr>\n<tr>\n<td>117</td>\n<td  class=\"td-left\">0082</td>\n<td  class=\"td-left\">摩根大通</td>\n<td  class=\"td-right\">4,141</td>\n<td>117</td>\n<td  class=\"td-left\">0205</td>\n<td  class=\"td-left\">上海浙石</td>\n<td  class=\"td-right\">18,089.21</td>\n</tr>\n<tr>\n<td>118</td>\n<td  class=\"td-left\">0033</td>\n<td  class=\"td-left\">华龙期货</td>\n<td  class=\"td-right\">4,006</td>\n<td>118</td>\n<td  class=\"td-left\">0099</td>\n<td  class=\"td-left\">天鸿期货</td>\n<td  class=\"td-right\">17,521.64</td>\n</tr>\n<tr>\n<td>119</td>\n<td  class=\"td-left\">0232</td>\n<td  class=\"td-left\">金信期货</td>\n<td  class=\"td-right\">3,974</td>\n<td>119</td>\n<td  class=\"td-left\">0169</td>\n<td  class=\"td-left\">鑫鼎盛期货</td>\n<td  class=\"td-right\">16,678.51</td>\n</tr>\n<tr>\n<td>120</td>\n<td  class=\"td-left\">0099</td>\n<td  class=\"td-left\">天鸿期货</td>\n<td  class=\"td-right\">3,821</td>\n<td>120</td>\n<td  class=\"td-left\">0033</td>\n<td  class=\"td-left\">华龙期货</td>\n<td  class=\"td-right\">15,217.69</td>\n</tr>\n<tr>\n<td>121</td>\n<td  class=\"td-left\">0265</td>\n<td  class=\"td-left\">财达期货</td>\n<td  class=\"td-right\">3,765</td>\n<td>121</td>\n<td  class=\"td-left\">0195</td>\n<td  class=\"td-left\">大连良运</td>\n<td  class=\"td-right\">14,935.78</td>\n</tr>\n<tr>\n<td>122</td>\n<td  class=\"td-left\">0195</td>\n<td  class=\"td-left\">大连良运</td>\n<td  class=\"td-right\">3,699</td>\n<td>122</td>\n<td  class=\"td-left\">0004</td>\n<td  class=\"td-left\">中钢期货</td>\n<td  class=\"td-right\">14,561.91</td>\n</tr>\n<tr>\n<td>123</td>\n<td  class=\"td-left\">0235</td>\n<td  class=\"td-left\">新晟期货</td>\n<td  class=\"td-right\">3,591</td>\n<td>123</td>\n<td  class=\"td-left\">0265</td>\n<td  class=\"td-left\">财达期货</td>\n<td  class=\"td-right\">14,045.71</td>\n</tr>\n<tr>\n<td>124</td>\n<td  class=\"td-left\">0131</td>\n<td  class=\"td-left\">首创京都期货</td>\n<td  class=\"td-right\">3,446</td>\n<td>124</td>\n<td  class=\"td-left\">0235</td>\n<td  class=\"td-left\">新晟期货</td>\n<td  class=\"td-right\">13,945.78</td>\n</tr>\n<tr>\n<td>125</td>\n<td  class=\"td-left\">0004</td>\n<td  class=\"td-left\">中钢期货</td>\n<td  class=\"td-right\">3,217</td>\n<td>125</td>\n<td  class=\"td-left\">0249</td>\n<td  class=\"td-left\">上海东亚</td>\n<td  class=\"td-right\">13,515.62</td>\n</tr>\n<tr>\n<td>126</td>\n<td  class=\"td-left\">0019</td>\n<td  class=\"td-left\">江苏东华</td>\n<td  class=\"td-right\">3,173</td>\n<td>126</td>\n<td  class=\"td-left\">0066</td>\n<td  class=\"td-left\">云晨期货</td>\n<td  class=\"td-right\">12,992.24</td>\n</tr>\n<tr>\n<td>127</td>\n<td  class=\"td-left\">0066</td>\n<td  class=\"td-left\">云晨期货</td>\n<td  class=\"td-right\">3,070</td>\n<td>127</td>\n<td  class=\"td-left\">0082</td>\n<td  class=\"td-left\">摩根大通</td>\n<td  class=\"td-right\">12,810.83</td>\n</tr>\n<tr>\n<td>128</td>\n<td  class=\"td-left\">0100</td>\n<td  class=\"td-left\">中银国际</td>\n<td  class=\"td-right\">2,834</td>\n<td>128</td>\n<td  class=\"td-left\">0134</td>\n<td  class=\"td-left\">山西三立</td>\n<td  class=\"td-right\">12,650.02</td>\n</tr>\n<tr>\n<td>129</td>\n<td  class=\"td-left\">0205</td>\n<td  class=\"td-left\">上海浙石</td>\n<td  class=\"td-right\">2,689</td>\n<td>129</td>\n<td  class=\"td-left\">0019</td>\n<td  class=\"td-left\">江苏东华</td>\n<td  class=\"td-right\">12,571.09</td>\n</tr>\n<tr>\n<td>130</td>\n<td  class=\"td-left\">0249</td>\n<td  class=\"td-left\">上海东亚</td>\n<td  class=\"td-right\">2,664</td>\n<td>130</td>\n<td  class=\"td-left\">0100</td>\n<td  class=\"td-left\">中银国际</td>\n<td  class=\"td-right\">12,141.94</td>\n</tr>\n<tr>\n<td>131</td>\n<td  class=\"td-left\">0093</td>\n<td  class=\"td-left\">深圳金汇</td>\n<td  class=\"td-right\">2,421</td>\n<td>131</td>\n<td  class=\"td-left\">0131</td>\n<td  class=\"td-left\">首创京都期货</td>\n<td  class=\"td-right\">12,035.83</td>\n</tr>\n<tr>\n<td>132</td>\n<td  class=\"td-left\">0098</td>\n<td  class=\"td-left\">第一创业</td>\n<td  class=\"td-right\">2,327</td>\n<td>132</td>\n<td  class=\"td-left\">0098</td>\n<td  class=\"td-left\">第一创业</td>\n<td  class=\"td-right\">9,411.31</td>\n</tr>\n<tr>\n<td>133</td>\n<td  class=\"td-left\">0134</td>\n<td  class=\"td-left\">山西三立</td>\n<td  class=\"td-right\">2,324</td>\n<td>133</td>\n<td  class=\"td-left\">0093</td>\n<td  class=\"td-left\">深圳金汇</td>\n<td  class=\"td-right\">9,237.44</td>\n</tr>\n<tr>\n<td>134</td>\n<td  class=\"td-left\">0031</td>\n<td  class=\"td-left\">中金期货</td>\n<td  class=\"td-right\">1,983</td>\n<td>134</td>\n<td  class=\"td-left\">0031</td>\n<td  class=\"td-left\">中金期货</td>\n<td  class=\"td-right\">8,735.15</td>\n</tr>\n<tr>\n<td>135</td>\n<td  class=\"td-left\">0003</td>\n<td  class=\"td-left\">红塔期货</td>\n<td  class=\"td-right\">1,892</td>\n<td>135</td>\n<td  class=\"td-left\">0079</td>\n<td  class=\"td-left\">津投期货</td>\n<td  class=\"td-right\">8,179.19</td>\n</tr>\n<tr>\n<td>136</td>\n<td  class=\"td-left\">0084</td>\n<td  class=\"td-left\">大通期货</td>\n<td  class=\"td-right\">1,783</td>\n<td>136</td>\n<td  class=\"td-left\">0015</td>\n<td  class=\"td-left\">国盛期货</td>\n<td  class=\"td-right\">7,419.50</td>\n</tr>\n<tr>\n<td>137</td>\n<td  class=\"td-left\">0079</td>\n<td  class=\"td-left\">津投期货</td>\n<td  class=\"td-right\">1,764</td>\n<td>137</td>\n<td  class=\"td-left\">0003</td>\n<td  class=\"td-left\">红塔期货</td>\n<td  class=\"td-right\">7,320.64</td>\n</tr>\n<tr>\n<td>138</td>\n<td  class=\"td-left\">0015</td>\n<td  class=\"td-left\">国盛期货</td>\n<td  class=\"td-right\">1,682</td>\n<td>138</td>\n<td  class=\"td-left\">0182</td>\n<td  class=\"td-left\">前海期货</td>\n<td  class=\"td-right\">6,867.51</td>\n</tr>\n<tr>\n<td>139</td>\n<td  class=\"td-left\">0182</td>\n<td  class=\"td-left\">前海期货</td>\n<td  class=\"td-right\">1,581</td>\n<td>139</td>\n<td  class=\"td-left\">0084</td>\n<td  class=\"td-left\">大通期货</td>\n<td  class=\"td-right\">5,688.60</td>\n</tr>\n<tr>\n<td>140</td>\n<td  class=\"td-left\">0218</td>\n<td  class=\"td-left\">河北恒银</td>\n<td  class=\"td-right\">1,443</td>\n<td>140</td>\n<td  class=\"td-left\">0218</td>\n<td  class=\"td-left\">河北恒银</td>\n<td  class=\"td-right\">5,360.03</td>\n</tr>\n<tr>\n<td>141</td>\n<td  class=\"td-left\">0002</td>\n<td  class=\"td-left\">晟鑫期货</td>\n<td  class=\"td-right\">1,328</td>\n<td>141</td>\n<td  class=\"td-left\">0025</td>\n<td  class=\"td-left\">盛达期货</td>\n<td  class=\"td-right\">4,869.51</td>\n</tr>\n<tr>\n<td>142</td>\n<td  class=\"td-left\">0025</td>\n<td  class=\"td-left\">盛达期货</td>\n<td  class=\"td-right\">1,226</td>\n<td>142</td>\n<td  class=\"td-left\">0002</td>\n<td  class=\"td-left\">晟鑫期货</td>\n<td  class=\"td-right\">4,737.24</td>\n</tr>\n<tr>\n<td>143</td>\n<td  class=\"td-left\">0228</td>\n<td  class=\"td-left\">和融期货</td>\n<td  class=\"td-right\">1,217</td>\n<td>143</td>\n<td  class=\"td-left\">0228</td>\n<td  class=\"td-left\">和融期货</td>\n<td  class=\"td-right\">4,214.08</td>\n</tr>\n<tr>\n<td>144</td>\n<td  class=\"td-left\">0077</td>\n<td  class=\"td-left\">天富期货</td>\n<td  class=\"td-right\">969</td>\n<td>144</td>\n<td  class=\"td-left\">0077</td>\n<td  class=\"td-left\">天富期货</td>\n<td  class=\"td-right\">4,070.70</td>\n</tr>\n<tr>\n<td>145</td>\n<td  class=\"td-left\">0073</td>\n<td  class=\"td-left\">华金期货</td>\n<td  class=\"td-right\">792</td>\n<td>145</td>\n<td  class=\"td-left\">0073</td>\n<td  class=\"td-left\">华金期货</td>\n<td  class=\"td-right\">3,217.10</td>\n</tr>\n<tr>\n<td>146</td>\n<td  class=\"td-left\">0157</td>\n<td  class=\"td-left\">新疆天利</td>\n<td  class=\"td-right\">338</td>\n<td>146</td>\n<td  class=\"td-left\">0157</td>\n<td  class=\"td-left\">新疆天利</td>\n<td  class=\"td-right\">1,527.75</td>\n</tr>\n<tr>\n<td>147</td>\n<td  class=\"td-left\">0233</td>\n<td  class=\"td-left\">黑龙江时代</td>\n<td  class=\"td-right\">4</td>\n<td>147</td>\n<td  class=\"td-left\">0233</td>\n<td  class=\"td-left\">黑龙江时代</td>\n<td  class=\"td-right\">14.55</td>\n</tr>\n<tr>\n<td>总计</td>\n<td  class=\"td-left\">&nbsp;</td>\n<td  class=\"td-left\">&nbsp;</td>\n<td  class=\"td-right\">5,218,226</td>\n<td  class=\"td-left\">&nbsp;</td>\n<td  class=\"td-left\">&nbsp;</td>\n<td  class=\"td-left\">&nbsp;</td>\n<td  class=\"td-right\">22,531,426.63</td>\n</tr>\n</table>\n</td>\n</tr>\n<tr style=\"display:none\">\n<td valign=\"top\" class=\"td-note\"><br>说明： <br>(1) 价格：元/吨 <br>(2) 成交量、空盘量：手<br>(3) 成交额：万元</td>\n</tr>\n</table>\n<script type=\"text/javascript\">\n senfe(\"senfe\",\"#eaf4fc\",\"#fff\");\n</script>\n</body></html>\n\n"
     ]
    }
   ],
   "source": [
    "# from lxml import etree\n",
    "# root = etree.fromstring(s.text)\n",
    "# import lxml.html.usedoctest\n",
    "form_text = s.text\n",
    "import lxml.html\n",
    "# html = lxml.html.fragment_fromstring(s.text, create_parent=False)\n",
    "from lxml.html import fromstring, tostring\n",
    "form_page = fromstring(form_text)\n",
    "print(form_page)\n",
    "# form = form_page.forms[0]\n",
    "# print(form)\n",
    "print(s.text)"
   ]
  },
  {
   "cell_type": "code",
   "execution_count": 58,
   "metadata": {},
   "outputs": [
    {
     "ename": "UnicodeEncodeError",
     "evalue": "'latin-1' codec can't encode characters in position 21-27: ordinal not in range(256)",
     "traceback": [
      "\u001b[0;31m---------------------------------------------------------------------------\u001b[0m",
      "\u001b[0;31mUnicodeEncodeError\u001b[0m                        Traceback (most recent call last)",
      "\u001b[0;32m<ipython-input-58-8e0b92aa2317>\u001b[0m in \u001b[0;36m<module>\u001b[0;34m()\u001b[0m\n\u001b[1;32m      4\u001b[0m \u001b[0;31m# bytes(t_text)\u001b[0m\u001b[0;34m\u001b[0m\u001b[0;34m\u001b[0m\u001b[0m\n\u001b[1;32m      5\u001b[0m \u001b[0;34m\u001b[0m\u001b[0m\n\u001b[0;32m----> 6\u001b[0;31m \u001b[0mt2\u001b[0m \u001b[0;34m=\u001b[0m \u001b[0mcodecs\u001b[0m\u001b[0;34m.\u001b[0m\u001b[0mdecode\u001b[0m\u001b[0;34m(\u001b[0m\u001b[0mbytes\u001b[0m\u001b[0;34m(\u001b[0m\u001b[0mt_text\u001b[0m\u001b[0;34m,\u001b[0m \u001b[0mencoding\u001b[0m\u001b[0;34m=\u001b[0m\u001b[0;34m'iso8859-1'\u001b[0m\u001b[0;34m)\u001b[0m\u001b[0;34m,\u001b[0m \u001b[0;34m'gbk'\u001b[0m\u001b[0;34m)\u001b[0m\u001b[0;34m\u001b[0m\u001b[0m\n\u001b[0m\u001b[1;32m      7\u001b[0m \u001b[0;31m# t3 = codecs.encode(t2, 'gbk')\u001b[0m\u001b[0;34m\u001b[0m\u001b[0;34m\u001b[0m\u001b[0m\n\u001b[1;32m      8\u001b[0m \u001b[0mprint\u001b[0m\u001b[0;34m(\u001b[0m\u001b[0mt2\u001b[0m\u001b[0;34m)\u001b[0m\u001b[0;34m\u001b[0m\u001b[0m\n",
      "\u001b[0;31mUnicodeEncodeError\u001b[0m: 'latin-1' codec can't encode characters in position 21-27: ordinal not in range(256)"
     ],
     "output_type": "error"
    }
   ],
   "source": [
    "# data.encode('iso8859-1')。\n",
    "# t_text = s.text\n",
    "# import codecs\n",
    "# # bytes(t_text)\n",
    "# \n",
    "# t2 = codecs.decode(bytes(t_text, encoding='iso8859-1'), 'gbk')\n",
    "# # t3 = codecs.encode(t2, 'gbk')\n",
    "# print(t2)\n",
    "'''\n",
    "You cannot decode string objects; they are already decoded. You'll have to use a different method.\n",
    "\n",
    "You can use the codecs.decode() function to apply hex as a codec:\n",
    "\n",
    ">>> import codecs\n",
    ">>> codecs.decode('ab', 'hex')\n",
    "b'\\xab'\n",
    "This applies a Binary transform codec; it is the equivalent of using the base64.b16decode() function, with the input string converted to uppercase:\n",
    "\n",
    ">>> import base64\n",
    ">>> base64.b16decode('AB')\n",
    "b'\\xab'\n",
    "You can also use the binascii.unhexlify() function to 'decode' a sequence of hex digits to bytes:\n",
    "\n",
    ">>> import binascii\n",
    ">>> binascii.unhexlify('ab')\n",
    "b'\\xab'\n",
    "'''\n",
    "# t_text = t_text.replace('\\xc6', '')\n",
    "# decodedLine = lines.decode('ISO-8859-1')\n",
    "# t_html = bytes(t_text).decode('gbk','strict').encode('utf-8')\n",
    "# t_html = t_text.encode('iso8859-1').decode('gbk')\n",
    "# print(t_html)\n",
    "# root = ET.fromstring(s.text)"
   ]
  },
  {
   "cell_type": "code",
   "execution_count": 69,
   "metadata": {},
   "outputs": [],
   "source": [
    "from lxml import etree\n",
    "from io import StringIO, BytesIO\n",
    "parser = etree.HTMLParser()\n",
    "tree   = etree.parse(StringIO(form_text), parser)\n",
    "# tree   = etree.parse(StringIO(broken_html), parser)\n",
    "# print(form_text)"
   ]
  },
  {
   "cell_type": "code",
   "execution_count": 105,
   "metadata": {},
   "outputs": [
    {
     "name": "stdout",
     "output_type": "stream",
     "text": [
      "<tr>\n<td>1</td>\n<td  class=\"td-left\">0007</td>\n<td  class=\"td-left\">海通</td>\n<td  class=\"td-right\">274,893</td>\n<td>1</td>\n<td  class=\"td-left\">0083</td>\n<td  class=\"td-left\">haitong</td>\n<td  class=\"td-right\">1,110,974.41</td>\n</tr>\nb'<tr>\\n<td>1</td>\\n<td class=\"td-left\">0007</td>\\n<td class=\"td-left\">&#28023;&#36890;</td>\\n<td class=\"td-right\">274,893</td>\\n<td>1</td>\\n<td class=\"td-left\">0083</td>\\n<td class=\"td-left\">haitong</td>\\n<td class=\"td-right\">1,110,974.41</td>\\n</tr>\\n'\n"
     ]
    }
   ],
   "source": [
    "from lxml.html import fragment_fromstring\n",
    "\n",
    "broken_html = '''<tr>\n",
    "<td>1</td>\n",
    "<td  class=\"td-left\">0007</td>\n",
    "<td  class=\"td-left\">海通</td>\n",
    "<td  class=\"td-right\">274,893</td>\n",
    "<td>1</td>\n",
    "<td  class=\"td-left\">0083</td>\n",
    "<td  class=\"td-left\">haitong</td>\n",
    "<td  class=\"td-right\">1,110,974.41</td>\n",
    "</tr>'''.replace('/r/n', '')\n",
    "print(broken_html)\n",
    "# broken_html = unicode(broken_html, \"utf-8\")\n",
    "# html = lxml.html.fromstring(broken_html)\n",
    "# print(html)\n",
    "# print(lxml.html.tostring(html, encoding='utf-8')) \n",
    "# parser = etree.HTMLParser()\n",
    "\n",
    "thtml = fragment_fromstring(broken_html)\n",
    "print(lxml.html.tostring(thtml, pretty_print=True)) \n",
    "# result = etree.tostring(html,  pretty_print=True, method=\"html\")\n",
    "# result = etree.tostring(html, encoding=\"gb2312\", pretty_print=True, method=\"html\")\n",
    "# print(result)\n",
    "# print(form_text)"
   ]
  },
  {
   "cell_type": "code",
   "execution_count": 93,
   "metadata": {},
   "outputs": [
    {
     "name": "stdout",
     "output_type": "stream",
     "text": [
      "b'<html><body onload=\"\" color=\"white\">\\n    <p>Hi  !</p>\\n  </body></html>'\n"
     ]
    }
   ],
   "source": [
    "import lxml.html\n",
    "html = lxml.html.fromstring('''\\\n",
    "                            <html><body onload=\"\" color=\"white\">\n",
    "    <p>Hi  !</p>\n",
    "  </body></html>\n",
    "''')\n",
    "print(lxml.html.tostring(html)) \n"
   ]
  },
  {
   "cell_type": "code",
   "execution_count": 2,
   "metadata": {},
   "outputs": [
    {
     "ename": "NameError",
     "evalue": "name 'etree' is not defined",
     "traceback": [
      "\u001b[0;31m---------------------------------------------------------------------------\u001b[0m",
      "\u001b[0;31mNameError\u001b[0m                                 Traceback (most recent call last)",
      "\u001b[0;32m<ipython-input-2-8e89e9dc1a6e>\u001b[0m in \u001b[0;36m<module>\u001b[0;34m()\u001b[0m\n\u001b[1;32m      8\u001b[0m \u001b[0;31m# broken_html = bytes(broken_html, encoding='utf8')\u001b[0m\u001b[0;34m\u001b[0m\u001b[0;34m\u001b[0m\u001b[0m\n\u001b[1;32m      9\u001b[0m \u001b[0;31m# print(broken_html)\u001b[0m\u001b[0;34m\u001b[0m\u001b[0;34m\u001b[0m\u001b[0m\n\u001b[0;32m---> 10\u001b[0;31m \u001b[0mpage\u001b[0m \u001b[0;34m=\u001b[0m \u001b[0metree\u001b[0m\u001b[0;34m.\u001b[0m\u001b[0mHTML\u001b[0m\u001b[0;34m(\u001b[0m\u001b[0mbroken_html\u001b[0m\u001b[0;34m)\u001b[0m\u001b[0;34m\u001b[0m\u001b[0m\n\u001b[0m\u001b[1;32m     11\u001b[0m \u001b[0mresult\u001b[0m \u001b[0;34m=\u001b[0m \u001b[0metree\u001b[0m\u001b[0;34m.\u001b[0m\u001b[0mtostring\u001b[0m\u001b[0;34m(\u001b[0m\u001b[0mpage\u001b[0m\u001b[0;34m,\u001b[0m \u001b[0mpretty_print\u001b[0m\u001b[0;34m=\u001b[0m\u001b[0;32mTrue\u001b[0m\u001b[0;34m,\u001b[0m \u001b[0mmethod\u001b[0m\u001b[0;34m=\u001b[0m\u001b[0;34m\"html\"\u001b[0m\u001b[0;34m)\u001b[0m\u001b[0;34m\u001b[0m\u001b[0m\n\u001b[1;32m     12\u001b[0m \u001b[0mprint\u001b[0m\u001b[0;34m(\u001b[0m\u001b[0mresult\u001b[0m\u001b[0;34m)\u001b[0m\u001b[0;34m\u001b[0m\u001b[0m\n",
      "\u001b[0;31mNameError\u001b[0m: name 'etree' is not defined"
     ],
     "output_type": "error"
    }
   ],
   "source": [
    "# import sys\n",
    "# \n",
    "# # reload(sys)\n",
    "# \n",
    "# sys.setdefaultencoding('gbk')\n",
    "#coding:utf-8\n",
    "broken_html = u'<p>中国</p>'\n",
    "# broken_html = bytes(broken_html, encoding='utf8')\n",
    "# print(broken_html)\n",
    "page = etree.HTML(broken_html)\n",
    "result = etree.tostring(page, pretty_print=True, method=\"html\")\n",
    "print(result)\n",
    "print()\n"
   ]
  },
  {
   "cell_type": "code",
   "execution_count": 14,
   "metadata": {},
   "outputs": [],
   "source": [
    "from lxml.html import fromstring\n",
    "doc = fromstring(s.text)"
   ]
  },
  {
   "cell_type": "code",
   "execution_count": 15,
   "metadata": {},
   "outputs": [],
   "source": [
    "for el in doc.find_class('td'):\n",
    "    print(get_value(el))"
   ]
  },
  {
   "cell_type": "code",
   "execution_count": 13,
   "metadata": {},
   "outputs": [],
   "source": [
    "# print(s.text)"
   ]
  },
  {
   "cell_type": "code",
   "execution_count": 20,
   "metadata": {
    "collapsed": true
   },
   "outputs": [
    {
     "name": "stdout",
     "output_type": "stream",
     "text": [
      "bar\n"
     ]
    }
   ],
   "source": [
    "from lxml import etree\n",
    "from io import StringIO \n",
    "f = StringIO('<foo><bar></bar></foo>')\n",
    "tree = etree.parse(f)\n",
    "r = tree.xpath('/foo/bar')\n",
    "print(r[0].tag)"
   ]
  },
  {
   "cell_type": "code",
   "execution_count": 10,
   "metadata": {},
   "outputs": [
    {
     "name": "stdout",
     "output_type": "stream",
     "text": [
      "bar\n中国\n"
     ]
    }
   ],
   "source": [
    "from lxml import etree\n",
    "from io import StringIO \n",
    "f = StringIO('<foo><bar>中国</bar></foo>')\n",
    "# f = StringIO(s.text)\n",
    "tree = etree.parse(f)\n",
    "r = tree.xpath('/foo/bar')\n",
    "print(r[0].tag)\n",
    "print(r[0].text)"
   ]
  },
  {
   "cell_type": "code",
   "execution_count": 17,
   "metadata": {},
   "outputs": [
    {
     "name": "stdout",
     "output_type": "stream",
     "text": [
      "<tr>\n<td class=\"td-noborder\" height=\"150\"><div class=\"title\">期货成交排名表<hr/></div>\n<div class=\"title2\">2018-04-16  本月第9个交易日  本年第68个交易日 \n<object classid=\"CLSID:8856F961-340A-11D0-A96B-00C04FD705A2\" height=\"0\" id=\"WebBrowser\" viewastext=\"\" width=\"0\"></object>\n<input class=\"button\" onclick=\"document.all.WebBrowser.ExecWB(6,1)\" type=\"button\" value=\"打印\"/>  \n<input class=\"button\" name=\"button2\" onclick=\"javascript:window.open('FutureDataTradeamt.xls');\" type=\"button\" value=\"excel\"/>\n<input class=\"button\" name=\"button2\" onclick=\"javascript:window.open('FutureDataTradeamt.txt');\" type=\"button\" value=\"txt\"/>\n</div><br/>\n<table align=\"center\" border=\"0\" cellpadding=\"2\" cellspacing=\"0\" class=\"table\" id=\"senfe\" width=\"735\">\n<tr class=\"tr0\">\n<td nowrap=\"\"> 名次 </td>\n<td nowrap=\"\"> 会员号 </td>\n<td nowrap=\"\"> 会员简称 </td>\n<td nowrap=\"\"> 成交量（手）</td>\n<td nowrap=\"\"> 名次 </td>\n<td nowrap=\"\"> 会员号 </td>\n<td nowrap=\"\"> 会员简称 </td>\n<td nowrap=\"\"> 成交额（万元）</td>\n</tr>\n<tr>\n<td>1</td>\n<td class=\"td-left\">0007</td>\n<td class=\"td-left\">华泰期货</td>\n<td class=\"td-right\">274,893</td>\n<td>1</td>\n<td class=\"td-left\">0083</td>\n<td class=\"td-left\">海通期货</td>\n<td class=\"td-right\">1,110,974.41</td>\n</tr>\n<tr>\n<td>2</td>\n<td class=\"td-left\">0216</td>\n<td class=\"td-left\">建信期货</td>\n<td class=\"td-right\">257,241</td>\n<td>2</td>\n<td class=\"td-left\">0007</td>\n<td class=\"td-left\">华泰期货</td>\n<td class=\"td-right\">1,072,303.05</td>\n</tr>\n<tr>\n<td>3</td>\n<td class=\"td-left\">0083</td>\n<td class=\"td-left\">海通期货</td>\n<td class=\"td-right\">244,780</td>\n<td>3</td>\n<td class=\"td-left\">0216</td>\n<td class=\"td-left\">建信期货</td>\n<td class=\"td-right\">1,019,592.86</td>\n</tr>\n<tr>\n<td>4</td>\n<td class=\"td-left\">0055</td>\n<td class=\"td-left\">中信期货</td>\n<td class=\"td-right\">176,061</td>\n<td>4</td>\n<td class=\"td-left\">0055</td>\n<td class=\"td-left\">中信期货</td>\n<td class=\"td-right\">741,059.80</td>\n</tr>\n<tr>\n<td>5</td>\n<td class=\"td-left\">0111</td>\n<td class=\"td-left\">光大期货</td>\n<td class=\"td-right\">159,222</td>\n<td>5</td>\n<td class=\"td-left\">0111</td>\n<td class=\"td-left\">光大期货</td>\n<td class=\"td-right\">709,956.98</td>\n</tr>\n<tr>\n<td>6</td>\n<td class=\"td-left\">0032</td>\n<td class=\"td-left\">徽商期货</td>\n<td class=\"td-right\">158,542</td>\n<td>6</td>\n<td class=\"td-left\">0032</td>\n<td class=\"td-left\">徽商期货</td>\n<td class=\"td-right\">690,954.05</td>\n</tr>\n<tr>\n<td>7</td>\n<td class=\"td-left\">0010</td>\n<td class=\"td-left\">招商期货</td>\n<td class=\"td-right\">139,606</td>\n<td>7</td>\n<td class=\"td-left\">0010</td>\n<td class=\"td-left\">招商期货</td>\n<td class=\"td-right\">603,988.95</td>\n</tr>\n<tr>\n<td>8</td>\n<td class=\"td-left\">0186</td>\n<td class=\"td-left\">国泰君安</td>\n<td class=\"td-right\">121,930</td>\n<td>8</td>\n<td class=\"td-left\">0062</td>\n<td class=\"td-left\">金瑞期货</td>\n<td class=\"td-right\">583,415.44</td>\n</tr>\n<tr>\n<td>9</td>\n<td class=\"td-left\">0188</td>\n<td class=\"td-left\">永安期货</td>\n<td class=\"td-right\">119,234</td>\n<td>9</td>\n<td class=\"td-left\">0186</td>\n<td class=\"td-left\">国泰君安</td>\n<td class=\"td-right\">524,117.95</td>\n</tr>\n<tr>\n<td>10</td>\n<td class=\"td-left\">0062</td>\n<td class=\"td-left\">金瑞期货</td>\n<td class=\"td-right\">117,531</td>\n<td>10</td>\n<td class=\"td-left\">0188</td>\n<td class=\"td-left\">永安期货</td>\n<td class=\"td-right\">491,755.21</td>\n</tr>\n<tr>\n<td>11</td>\n<td class=\"td-left\">0039</td>\n<td class=\"td-left\">方正中期</td>\n<td class=\"td-right\">111,621</td>\n<td>11</td>\n<td class=\"td-left\">0039</td>\n<td class=\"td-left\">方正中期</td>\n<td class=\"td-right\">479,540.82</td>\n</tr>\n<tr>\n<td>12</td>\n<td class=\"td-left\">0173</td>\n<td class=\"td-left\">广发期货</td>\n<td class=\"td-right\">99,792</td>\n<td>12</td>\n<td class=\"td-left\">0268</td>\n<td class=\"td-left\">兴证期货</td>\n<td class=\"td-right\">462,688.83</td>\n</tr>\n<tr>\n<td>13</td>\n<td class=\"td-left\">0268</td>\n<td class=\"td-left\">兴证期货</td>\n<td class=\"td-right\">97,152</td>\n<td>13</td>\n<td class=\"td-left\">0209</td>\n<td class=\"td-left\">华安期货</td>\n<td class=\"td-right\">447,789.35</td>\n</tr>\n<tr>\n<td>14</td>\n<td class=\"td-left\">0009</td>\n<td class=\"td-left\">国投安信期货</td>\n<td class=\"td-right\">96,848</td>\n<td>14</td>\n<td class=\"td-left\">0173</td>\n<td class=\"td-left\">广发期货</td>\n<td class=\"td-right\">426,081.26</td>\n</tr>\n<tr>\n<td>15</td>\n<td class=\"td-left\">0209</td>\n<td class=\"td-left\">华安期货</td>\n<td class=\"td-right\">96,169</td>\n<td>15</td>\n<td class=\"td-left\">0202</td>\n<td class=\"td-left\">中辉期货</td>\n<td class=\"td-right\">424,934.25</td>\n</tr>\n<tr>\n<td>16</td>\n<td class=\"td-left\">0142</td>\n<td class=\"td-left\">东航期货</td>\n<td class=\"td-right\">93,633</td>\n<td>16</td>\n<td class=\"td-left\">0009</td>\n<td class=\"td-left\">国投安信期货</td>\n<td class=\"td-right\">407,931.41</td>\n</tr>\n<tr>\n<td>17</td>\n<td class=\"td-left\">0202</td>\n<td class=\"td-left\">中辉期货</td>\n<td class=\"td-right\">92,000</td>\n<td>17</td>\n<td class=\"td-left\">0142</td>\n<td class=\"td-left\">东航期货</td>\n<td class=\"td-right\">378,079.52</td>\n</tr>\n<tr>\n<td>18</td>\n<td class=\"td-left\">0051</td>\n<td class=\"td-left\">银河期货</td>\n<td class=\"td-right\">90,527</td>\n<td>18</td>\n<td class=\"td-left\">0193</td>\n<td class=\"td-left\">西部期货</td>\n<td class=\"td-right\">366,763.70</td>\n</tr>\n<tr>\n<td>19</td>\n<td class=\"td-left\">0193</td>\n<td class=\"td-left\">西部期货</td>\n<td class=\"td-right\">79,482</td>\n<td>19</td>\n<td class=\"td-left\">0051</td>\n<td class=\"td-left\">银河期货</td>\n<td class=\"td-right\">359,221.26</td>\n</tr>\n<tr>\n<td>20</td>\n<td class=\"td-left\">0020</td>\n<td class=\"td-left\">弘业期货</td>\n<td class=\"td-right\">77,605</td>\n<td>20</td>\n<td class=\"td-left\">0069</td>\n<td class=\"td-left\">华信期货</td>\n<td class=\"td-right\">342,240.09</td>\n</tr>\n<tr>\n<td>21</td>\n<td class=\"td-left\">0203</td>\n<td class=\"td-left\">宏源期货</td>\n<td class=\"td-right\">73,169</td>\n<td>21</td>\n<td class=\"td-left\">0203</td>\n<td class=\"td-left\">宏源期货</td>\n<td class=\"td-right\">334,722.11</td>\n</tr>\n<tr>\n<td>22</td>\n<td class=\"td-left\">0210</td>\n<td class=\"td-left\">东海期货</td>\n<td class=\"td-right\">72,923</td>\n<td>22</td>\n<td class=\"td-left\">0210</td>\n<td class=\"td-left\">东海期货</td>\n<td class=\"td-right\">327,740.23</td>\n</tr>\n<tr>\n<td>23</td>\n<td class=\"td-left\">0038</td>\n<td class=\"td-left\">申银万国</td>\n<td class=\"td-right\">71,084</td>\n<td>23</td>\n<td class=\"td-left\">0038</td>\n<td class=\"td-left\">申银万国</td>\n<td class=\"td-right\">314,143.88</td>\n</tr>\n<tr>\n<td>24</td>\n<td class=\"td-left\">0069</td>\n<td class=\"td-left\">华信期货</td>\n<td class=\"td-right\">70,208</td>\n<td>24</td>\n<td class=\"td-left\">0091</td>\n<td class=\"td-left\">创元期货</td>\n<td class=\"td-right\">307,080.81</td>\n</tr>\n<tr>\n<td>25</td>\n<td class=\"td-left\">0212</td>\n<td class=\"td-left\">南华期货</td>\n<td class=\"td-right\">69,876</td>\n<td>25</td>\n<td class=\"td-left\">0139</td>\n<td class=\"td-left\">安粮期货</td>\n<td class=\"td-right\">298,791.51</td>\n</tr>\n<tr>\n<td>26</td>\n<td class=\"td-left\">0109</td>\n<td class=\"td-left\">东证期货</td>\n<td class=\"td-right\">69,653</td>\n<td>26</td>\n<td class=\"td-left\">0189</td>\n<td class=\"td-left\">冠通期货</td>\n<td class=\"td-right\">293,513.42</td>\n</tr>\n<tr>\n<td>27</td>\n<td class=\"td-left\">0091</td>\n<td class=\"td-left\">创元期货</td>\n<td class=\"td-right\">67,647</td>\n<td>27</td>\n<td class=\"td-left\">0020</td>\n<td class=\"td-left\">弘业期货</td>\n<td class=\"td-right\">286,775.93</td>\n</tr>\n<tr>\n<td>28</td>\n<td class=\"td-left\">0139</td>\n<td class=\"td-left\">安粮期货</td>\n<td class=\"td-right\">65,214</td>\n<td>28</td>\n<td class=\"td-left\">0109</td>\n<td class=\"td-left\">东证期货</td>\n<td class=\"td-right\">285,972.35</td>\n</tr>\n<tr>\n<td>29</td>\n<td class=\"td-left\">0189</td>\n<td class=\"td-left\">冠通期货</td>\n<td class=\"td-right\">61,995</td>\n<td>29</td>\n<td class=\"td-left\">0212</td>\n<td class=\"td-left\">南华期货</td>\n<td class=\"td-right\">276,373.11</td>\n</tr>\n<tr>\n<td>30</td>\n<td class=\"td-left\">0241</td>\n<td class=\"td-left\">首创期货</td>\n<td class=\"td-right\">61,065</td>\n<td>30</td>\n<td class=\"td-left\">0168</td>\n<td class=\"td-left\">中信建投</td>\n<td class=\"td-right\">275,058.89</td>\n</tr>\n<tr>\n<td>31</td>\n<td class=\"td-left\">0101</td>\n<td class=\"td-left\">国贸期货</td>\n<td class=\"td-right\">60,267</td>\n<td>31</td>\n<td class=\"td-left\">0241</td>\n<td class=\"td-left\">首创期货</td>\n<td class=\"td-right\">253,581.35</td>\n</tr>\n<tr>\n<td>32</td>\n<td class=\"td-left\">0068</td>\n<td class=\"td-left\">中粮期货</td>\n<td class=\"td-right\">57,504</td>\n<td>32</td>\n<td class=\"td-left\">0068</td>\n<td class=\"td-left\">中粮期货</td>\n<td class=\"td-right\">246,601.05</td>\n</tr>\n<tr>\n<td>33</td>\n<td class=\"td-left\">0168</td>\n<td class=\"td-left\">中信建投</td>\n<td class=\"td-right\">55,438</td>\n<td>33</td>\n<td class=\"td-left\">0101</td>\n<td class=\"td-left\">国贸期货</td>\n<td class=\"td-right\">231,898.80</td>\n</tr>\n<tr>\n<td>34</td>\n<td class=\"td-left\">0076</td>\n<td class=\"td-left\">长江期货</td>\n<td class=\"td-right\">48,600</td>\n<td>34</td>\n<td class=\"td-left\">0076</td>\n<td class=\"td-left\">长江期货</td>\n<td class=\"td-right\">197,493.91</td>\n</tr>\n<tr>\n<td>35</td>\n<td class=\"td-left\">0190</td>\n<td class=\"td-left\">国海良时</td>\n<td class=\"td-right\">47,613</td>\n<td>35</td>\n<td class=\"td-left\">0018</td>\n<td class=\"td-left\">国信期货</td>\n<td class=\"td-right\">193,144.15</td>\n</tr>\n<tr>\n<td>36</td>\n<td class=\"td-left\">0018</td>\n<td class=\"td-left\">国信期货</td>\n<td class=\"td-right\">45,721</td>\n<td>36</td>\n<td class=\"td-left\">0058</td>\n<td class=\"td-left\">鲁证期货</td>\n<td class=\"td-right\">191,806.26</td>\n</tr>\n<tr>\n<td>37</td>\n<td class=\"td-left\">0058</td>\n<td class=\"td-left\">鲁证期货</td>\n<td class=\"td-right\">43,800</td>\n<td>37</td>\n<td class=\"td-left\">0190</td>\n<td class=\"td-left\">国海良时</td>\n<td class=\"td-right\">190,234.10</td>\n</tr>\n<tr>\n<td>38</td>\n<td class=\"td-left\">0163</td>\n<td class=\"td-left\">五矿经易期货</td>\n<td class=\"td-right\">41,365</td>\n<td>38</td>\n<td class=\"td-left\">0191</td>\n<td class=\"td-left\">广州金控</td>\n<td class=\"td-right\">171,221.26</td>\n</tr>\n<tr>\n<td>39</td>\n<td class=\"td-left\">0113</td>\n<td class=\"td-left\">浙商期货</td>\n<td class=\"td-right\">39,495</td>\n<td>39</td>\n<td class=\"td-left\">0113</td>\n<td class=\"td-left\">浙商期货</td>\n<td class=\"td-right\">165,054.47</td>\n</tr>\n<tr>\n<td>40</td>\n<td class=\"td-left\">0141</td>\n<td class=\"td-left\">中国国际</td>\n<td class=\"td-right\">37,341</td>\n<td>40</td>\n<td class=\"td-left\">0141</td>\n<td class=\"td-left\">中国国际</td>\n<td class=\"td-right\">163,983.75</td>\n</tr>\n<tr>\n<td>41</td>\n<td class=\"td-left\">0095</td>\n<td class=\"td-left\">大地期货</td>\n<td class=\"td-right\">37,150</td>\n<td>41</td>\n<td class=\"td-left\">0185</td>\n<td class=\"td-left\">东吴期货</td>\n<td class=\"td-right\">158,435.62</td>\n</tr>\n<tr>\n<td>42</td>\n<td class=\"td-left\">0185</td>\n<td class=\"td-left\">东吴期货</td>\n<td class=\"td-right\">36,654</td>\n<td>42</td>\n<td class=\"td-left\">0095</td>\n<td class=\"td-left\">大地期货</td>\n<td class=\"td-right\">150,007.36</td>\n</tr>\n<tr>\n<td>43</td>\n<td class=\"td-left\">0174</td>\n<td class=\"td-left\">国联期货</td>\n<td class=\"td-right\">36,109</td>\n<td>43</td>\n<td class=\"td-left\">0234</td>\n<td class=\"td-left\">新湖期货</td>\n<td class=\"td-right\">149,329.12</td>\n</tr>\n<tr>\n<td>44</td>\n<td class=\"td-left\">0191</td>\n<td class=\"td-left\">广州金控</td>\n<td class=\"td-right\">35,311</td>\n<td>44</td>\n<td class=\"td-left\">0278</td>\n<td class=\"td-left\">平安期货</td>\n<td class=\"td-right\">148,419.92</td>\n</tr>\n<tr>\n<td>45</td>\n<td class=\"td-left\">0234</td>\n<td class=\"td-left\">新湖期货</td>\n<td class=\"td-right\">34,890</td>\n<td>45</td>\n<td class=\"td-left\">0008</td>\n<td class=\"td-left\">上海大陆</td>\n<td class=\"td-right\">147,604.62</td>\n</tr>\n<tr>\n<td>46</td>\n<td class=\"td-left\">0278</td>\n<td class=\"td-left\">平安期货</td>\n<td class=\"td-right\">33,717</td>\n<td>46</td>\n<td class=\"td-left\">0163</td>\n<td class=\"td-left\">五矿经易期货</td>\n<td class=\"td-right\">143,931.05</td>\n</tr>\n<tr>\n<td>47</td>\n<td class=\"td-left\">0008</td>\n<td class=\"td-left\">上海大陆</td>\n<td class=\"td-right\">33,109</td>\n<td>47</td>\n<td class=\"td-left\">0107</td>\n<td class=\"td-left\">美尔雅</td>\n<td class=\"td-right\">142,913.94</td>\n</tr>\n<tr>\n<td>48</td>\n<td class=\"td-left\">0179</td>\n<td class=\"td-left\">上海中期</td>\n<td class=\"td-right\">32,652</td>\n<td>48</td>\n<td class=\"td-left\">0016</td>\n<td class=\"td-left\">格林大华期货</td>\n<td class=\"td-right\">140,460.62</td>\n</tr>\n<tr>\n<td>49</td>\n<td class=\"td-left\">0107</td>\n<td class=\"td-left\">美尔雅</td>\n<td class=\"td-right\">32,274</td>\n<td>49</td>\n<td class=\"td-left\">0174</td>\n<td class=\"td-left\">国联期货</td>\n<td class=\"td-right\">137,377.58</td>\n</tr>\n<tr>\n<td>50</td>\n<td class=\"td-left\">0094</td>\n<td class=\"td-left\">兴业期货</td>\n<td class=\"td-right\">30,961</td>\n<td>50</td>\n<td class=\"td-left\">0262</td>\n<td class=\"td-left\">一德期货</td>\n<td class=\"td-right\">136,974.69</td>\n</tr>\n<tr>\n<td>51</td>\n<td class=\"td-left\">0016</td>\n<td class=\"td-left\">格林大华期货</td>\n<td class=\"td-right\">28,989</td>\n<td>51</td>\n<td class=\"td-left\">0147</td>\n<td class=\"td-left\">长安期货</td>\n<td class=\"td-right\">133,388.46</td>\n</tr>\n<tr>\n<td>52</td>\n<td class=\"td-left\">0121</td>\n<td class=\"td-left\">瑞达期货</td>\n<td class=\"td-right\">28,668</td>\n<td>52</td>\n<td class=\"td-left\">0179</td>\n<td class=\"td-left\">上海中期</td>\n<td class=\"td-right\">132,678.14</td>\n</tr>\n<tr>\n<td>53</td>\n<td class=\"td-left\">0001</td>\n<td class=\"td-left\">华西期货</td>\n<td class=\"td-right\">27,974</td>\n<td>53</td>\n<td class=\"td-left\">0001</td>\n<td class=\"td-left\">华西期货</td>\n<td class=\"td-right\">132,343.98</td>\n</tr>\n<tr>\n<td>54</td>\n<td class=\"td-left\">0147</td>\n<td class=\"td-left\">长安期货</td>\n<td class=\"td-right\">27,269</td>\n<td>54</td>\n<td class=\"td-left\">0222</td>\n<td class=\"td-left\">海证期货</td>\n<td class=\"td-right\">131,234.92</td>\n</tr>\n<tr>\n<td>55</td>\n<td class=\"td-left\">0183</td>\n<td class=\"td-left\">华鑫期货</td>\n<td class=\"td-right\">27,256</td>\n<td>55</td>\n<td class=\"td-left\">0121</td>\n<td class=\"td-left\">瑞达期货</td>\n<td class=\"td-right\">127,967.17</td>\n</tr>\n<tr>\n<td>56</td>\n<td class=\"td-left\">0017</td>\n<td class=\"td-left\">中财期货</td>\n<td class=\"td-right\">27,016</td>\n<td>56</td>\n<td class=\"td-left\">0149</td>\n<td class=\"td-left\">大有期货</td>\n<td class=\"td-right\">123,748.27</td>\n</tr>\n<tr>\n<td>57</td>\n<td class=\"td-left\">0262</td>\n<td class=\"td-left\">一德期货</td>\n<td class=\"td-right\">26,398</td>\n<td>57</td>\n<td class=\"td-left\">0215</td>\n<td class=\"td-left\">深圳瑞龙</td>\n<td class=\"td-right\">112,307.26</td>\n</tr>\n<tr>\n<td>58</td>\n<td class=\"td-left\">0043</td>\n<td class=\"td-left\">国元期货</td>\n<td class=\"td-right\">26,253</td>\n<td>58</td>\n<td class=\"td-left\">0017</td>\n<td class=\"td-left\">中财期货</td>\n<td class=\"td-right\">109,925.61</td>\n</tr>\n<tr>\n<td>59</td>\n<td class=\"td-left\">0222</td>\n<td class=\"td-left\">海证期货</td>\n<td class=\"td-right\">26,077</td>\n<td>59</td>\n<td class=\"td-left\">0110</td>\n<td class=\"td-left\">国金期货</td>\n<td class=\"td-right\">108,672.17</td>\n</tr>\n<tr>\n<td>60</td>\n<td class=\"td-left\">0215</td>\n<td class=\"td-left\">深圳瑞龙</td>\n<td class=\"td-right\">25,587</td>\n<td>60</td>\n<td class=\"td-left\">0011</td>\n<td class=\"td-left\">宝城期货</td>\n<td class=\"td-right\">108,446.47</td>\n</tr>\n<tr>\n<td>61</td>\n<td class=\"td-left\">0110</td>\n<td class=\"td-left\">国金期货</td>\n<td class=\"td-right\">25,326</td>\n<td>61</td>\n<td class=\"td-left\">0094</td>\n<td class=\"td-left\">兴业期货</td>\n<td class=\"td-right\">106,433.70</td>\n</tr>\n<tr>\n<td>62</td>\n<td class=\"td-left\">0011</td>\n<td class=\"td-left\">宝城期货</td>\n<td class=\"td-right\">25,235</td>\n<td>62</td>\n<td class=\"td-left\">0052</td>\n<td class=\"td-left\">渤海期货</td>\n<td class=\"td-right\">105,457.86</td>\n</tr>\n<tr>\n<td>63</td>\n<td class=\"td-left\">0258</td>\n<td class=\"td-left\">中衍期货</td>\n<td class=\"td-right\">24,242</td>\n<td>63</td>\n<td class=\"td-left\">0258</td>\n<td class=\"td-left\">中衍期货</td>\n<td class=\"td-right\">104,412.60</td>\n</tr>\n<tr>\n<td>64</td>\n<td class=\"td-left\">0114</td>\n<td class=\"td-left\">信达期货</td>\n<td class=\"td-right\">23,413</td>\n<td>64</td>\n<td class=\"td-left\">0183</td>\n<td class=\"td-left\">华鑫期货</td>\n<td class=\"td-right\">103,914.91</td>\n</tr>\n<tr>\n<td>65</td>\n<td class=\"td-left\">0052</td>\n<td class=\"td-left\">渤海期货</td>\n<td class=\"td-right\">23,289</td>\n<td>65</td>\n<td class=\"td-left\">0160</td>\n<td class=\"td-left\">国富期货</td>\n<td class=\"td-right\">99,785.45</td>\n</tr>\n<tr>\n<td>66</td>\n<td class=\"td-left\">0149</td>\n<td class=\"td-left\">大有期货</td>\n<td class=\"td-right\">23,149</td>\n<td>66</td>\n<td class=\"td-left\">0114</td>\n<td class=\"td-left\">信达期货</td>\n<td class=\"td-right\">98,361.69</td>\n</tr>\n<tr>\n<td>67</td>\n<td class=\"td-left\">0088</td>\n<td class=\"td-left\">中原期货</td>\n<td class=\"td-right\">23,092</td>\n<td>67</td>\n<td class=\"td-left\">0043</td>\n<td class=\"td-left\">国元期货</td>\n<td class=\"td-right\">98,013.92</td>\n</tr>\n<tr>\n<td>68</td>\n<td class=\"td-left\">0160</td>\n<td class=\"td-left\">国富期货</td>\n<td class=\"td-right\">22,791</td>\n<td>68</td>\n<td class=\"td-left\">0198</td>\n<td class=\"td-left\">英大期货</td>\n<td class=\"td-right\">94,738.21</td>\n</tr>\n<tr>\n<td>69</td>\n<td class=\"td-left\">0225</td>\n<td class=\"td-left\">广州期货</td>\n<td class=\"td-right\">21,019</td>\n<td>69</td>\n<td class=\"td-left\">0088</td>\n<td class=\"td-left\">中原期货</td>\n<td class=\"td-right\">93,611.60</td>\n</tr>\n<tr>\n<td>70</td>\n<td class=\"td-left\">0198</td>\n<td class=\"td-left\">英大期货</td>\n<td class=\"td-right\">20,604</td>\n<td>70</td>\n<td class=\"td-left\">0225</td>\n<td class=\"td-left\">广州期货</td>\n<td class=\"td-right\">92,106.36</td>\n</tr>\n<tr>\n<td>71</td>\n<td class=\"td-left\">0175</td>\n<td class=\"td-left\">中大期货</td>\n<td class=\"td-right\">19,649</td>\n<td>71</td>\n<td class=\"td-left\">0087</td>\n<td class=\"td-left\">铜冠金源</td>\n<td class=\"td-right\">92,101.51</td>\n</tr>\n<tr>\n<td>72</td>\n<td class=\"td-left\">0087</td>\n<td class=\"td-left\">铜冠金源</td>\n<td class=\"td-right\">19,181</td>\n<td>72</td>\n<td class=\"td-left\">0175</td>\n<td class=\"td-left\">中大期货</td>\n<td class=\"td-right\">88,009.31</td>\n</tr>\n<tr>\n<td>73</td>\n<td class=\"td-left\">0178</td>\n<td class=\"td-left\">倍特期货</td>\n<td class=\"td-right\">17,508</td>\n<td>73</td>\n<td class=\"td-left\">0103</td>\n<td class=\"td-left\">招金期货</td>\n<td class=\"td-right\">77,401.94</td>\n</tr>\n<tr>\n<td>74</td>\n<td class=\"td-left\">0080</td>\n<td class=\"td-left\">福能期货</td>\n<td class=\"td-right\">17,456</td>\n<td>74</td>\n<td class=\"td-left\">0080</td>\n<td class=\"td-left\">福能期货</td>\n<td class=\"td-right\">77,068.89</td>\n</tr>\n<tr>\n<td>75</td>\n<td class=\"td-left\">0103</td>\n<td class=\"td-left\">招金期货</td>\n<td class=\"td-right\">15,605</td>\n<td>75</td>\n<td class=\"td-left\">0206</td>\n<td class=\"td-left\">中电投先融</td>\n<td class=\"td-right\">72,741.70</td>\n</tr>\n<tr>\n<td>76</td>\n<td class=\"td-left\">0269</td>\n<td class=\"td-left\">同信久恒</td>\n<td class=\"td-right\">15,110</td>\n<td>76</td>\n<td class=\"td-left\">0102</td>\n<td class=\"td-left\">迈科期货</td>\n<td class=\"td-right\">68,152.51</td>\n</tr>\n<tr>\n<td>77</td>\n<td class=\"td-left\">0102</td>\n<td class=\"td-left\">迈科期货</td>\n<td class=\"td-right\">14,864</td>\n<td>77</td>\n<td class=\"td-left\">0178</td>\n<td class=\"td-left\">倍特期货</td>\n<td class=\"td-right\">67,653.65</td>\n</tr>\n<tr>\n<td>78</td>\n<td class=\"td-left\">0005</td>\n<td class=\"td-left\">新纪元期货</td>\n<td class=\"td-right\">14,078</td>\n<td>78</td>\n<td class=\"td-left\">0155</td>\n<td class=\"td-left\">中投天琪</td>\n<td class=\"td-right\">63,532.89</td>\n</tr>\n<tr>\n<td>79</td>\n<td class=\"td-left\">0155</td>\n<td class=\"td-left\">中投天琪</td>\n<td class=\"td-right\">14,047</td>\n<td>79</td>\n<td class=\"td-left\">0005</td>\n<td class=\"td-left\">新纪元期货</td>\n<td class=\"td-right\">59,536.05</td>\n</tr>\n<tr>\n<td>80</td>\n<td class=\"td-left\">0206</td>\n<td class=\"td-left\">中电投先融</td>\n<td class=\"td-right\">14,032</td>\n<td>80</td>\n<td class=\"td-left\">0269</td>\n<td class=\"td-left\">同信久恒</td>\n<td class=\"td-right\">58,907.02</td>\n</tr>\n<tr>\n<td>81</td>\n<td class=\"td-left\">0236</td>\n<td class=\"td-left\">通惠期货</td>\n<td class=\"td-right\">12,999</td>\n<td>81</td>\n<td class=\"td-left\">0060</td>\n<td class=\"td-left\">东兴期货</td>\n<td class=\"td-right\">53,012.78</td>\n</tr>\n<tr>\n<td>82</td>\n<td class=\"td-left\">0133</td>\n<td class=\"td-left\">华联期货</td>\n<td class=\"td-right\">12,684</td>\n<td>82</td>\n<td class=\"td-left\">0133</td>\n<td class=\"td-left\">华联期货</td>\n<td class=\"td-right\">52,809.73</td>\n</tr>\n<tr>\n<td>83</td>\n<td class=\"td-left\">0254</td>\n<td class=\"td-left\">大越期货</td>\n<td class=\"td-right\">11,909</td>\n<td>83</td>\n<td class=\"td-left\">0226</td>\n<td class=\"td-left\">德盛期货</td>\n<td class=\"td-right\">51,421.95</td>\n</tr>\n<tr>\n<td>84</td>\n<td class=\"td-left\">0226</td>\n<td class=\"td-left\">德盛期货</td>\n<td class=\"td-right\">11,734</td>\n<td>84</td>\n<td class=\"td-left\">0243</td>\n<td class=\"td-left\">锦泰期货</td>\n<td class=\"td-right\">50,815.15</td>\n</tr>\n<tr>\n<td>85</td>\n<td class=\"td-left\">0246</td>\n<td class=\"td-left\">恒泰期货</td>\n<td class=\"td-right\">11,620</td>\n<td>85</td>\n<td class=\"td-left\">0246</td>\n<td class=\"td-left\">恒泰期货</td>\n<td class=\"td-right\">48,500.29</td>\n</tr>\n<tr>\n<td>86</td>\n<td class=\"td-left\">0123</td>\n<td class=\"td-left\">浙江新世纪</td>\n<td class=\"td-right\">11,533</td>\n<td>86</td>\n<td class=\"td-left\">0123</td>\n<td class=\"td-left\">浙江新世纪</td>\n<td class=\"td-right\">47,998.52</td>\n</tr>\n<tr>\n<td>87</td>\n<td class=\"td-left\">0060</td>\n<td class=\"td-left\">东兴期货</td>\n<td class=\"td-right\">11,438</td>\n<td>87</td>\n<td class=\"td-left\">0254</td>\n<td class=\"td-left\">大越期货</td>\n<td class=\"td-right\">47,920.16</td>\n</tr>\n<tr>\n<td>88</td>\n<td class=\"td-left\">0037</td>\n<td class=\"td-left\">集成期货</td>\n<td class=\"td-right\">11,139</td>\n<td>88</td>\n<td class=\"td-left\">0086</td>\n<td class=\"td-left\">金元期货</td>\n<td class=\"td-right\">42,929.78</td>\n</tr>\n<tr>\n<td>89</td>\n<td class=\"td-left\">0243</td>\n<td class=\"td-left\">锦泰期货</td>\n<td class=\"td-right\">10,510</td>\n<td>89</td>\n<td class=\"td-left\">0037</td>\n<td class=\"td-left\">集成期货</td>\n<td class=\"td-right\">41,184.64</td>\n</tr>\n<tr>\n<td>90</td>\n<td class=\"td-left\">0086</td>\n<td class=\"td-left\">金元期货</td>\n<td class=\"td-right\">9,825</td>\n<td>90</td>\n<td class=\"td-left\">0196</td>\n<td class=\"td-left\">混沌天成期货</td>\n<td class=\"td-right\">39,128.97</td>\n</tr>\n<tr>\n<td>91</td>\n<td class=\"td-left\">0026</td>\n<td class=\"td-left\">海航期货</td>\n<td class=\"td-right\">8,109</td>\n<td>91</td>\n<td class=\"td-left\">0117</td>\n<td class=\"td-left\">国都期货</td>\n<td class=\"td-right\">38,735.53</td>\n</tr>\n<tr>\n<td>92</td>\n<td class=\"td-left\">0159</td>\n<td class=\"td-left\">中天期货</td>\n<td class=\"td-right\">7,574</td>\n<td>92</td>\n<td class=\"td-left\">0236</td>\n<td class=\"td-left\">通惠期货</td>\n<td class=\"td-right\">36,869.70</td>\n</tr>\n<tr>\n<td>93</td>\n<td class=\"td-left\">0196</td>\n<td class=\"td-left\">混沌天成期货</td>\n<td class=\"td-right\">7,449</td>\n<td>93</td>\n<td class=\"td-left\">0026</td>\n<td class=\"td-left\">海航期货</td>\n<td class=\"td-right\">35,652.29</td>\n</tr>\n<tr>\n<td>94</td>\n<td class=\"td-left\">0022</td>\n<td class=\"td-left\">江西瑞奇</td>\n<td class=\"td-right\">7,440</td>\n<td>94</td>\n<td class=\"td-left\">0159</td>\n<td class=\"td-left\">中天期货</td>\n<td class=\"td-right\">34,979.22</td>\n</tr>\n<tr>\n<td>95</td>\n<td class=\"td-left\">0146</td>\n<td class=\"td-left\">和合期货</td>\n<td class=\"td-right\">7,374</td>\n<td>95</td>\n<td class=\"td-left\">0022</td>\n<td class=\"td-left\">江西瑞奇</td>\n<td class=\"td-right\">33,134.06</td>\n</tr>\n<tr>\n<td>96</td>\n<td class=\"td-left\">0274</td>\n<td class=\"td-left\">神华期货</td>\n<td class=\"td-right\">7,350</td>\n<td>96</td>\n<td class=\"td-left\">0148</td>\n<td class=\"td-left\">民生期货</td>\n<td class=\"td-right\">32,272.81</td>\n</tr>\n<tr>\n<td>97</td>\n<td class=\"td-left\">0117</td>\n<td class=\"td-left\">国都期货</td>\n<td class=\"td-right\">7,271</td>\n<td>97</td>\n<td class=\"td-left\">0274</td>\n<td class=\"td-left\">神华期货</td>\n<td class=\"td-right\">31,620.34</td>\n</tr>\n<tr>\n<td>98</td>\n<td class=\"td-left\">0081</td>\n<td class=\"td-left\">南证期货</td>\n<td class=\"td-right\">6,907</td>\n<td>98</td>\n<td class=\"td-left\">0275</td>\n<td class=\"td-left\">华闻期货</td>\n<td class=\"td-right\">29,969.45</td>\n</tr>\n<tr>\n<td>99</td>\n<td class=\"td-left\">0061</td>\n<td class=\"td-left\">中融汇信</td>\n<td class=\"td-right\">6,542</td>\n<td>99</td>\n<td class=\"td-left\">0050</td>\n<td class=\"td-left\">金石期货</td>\n<td class=\"td-right\">29,645.76</td>\n</tr>\n<tr>\n<td>100</td>\n<td class=\"td-left\">0148</td>\n<td class=\"td-left\">民生期货</td>\n<td class=\"td-right\">6,489</td>\n<td>100</td>\n<td class=\"td-left\">0146</td>\n<td class=\"td-left\">和合期货</td>\n<td class=\"td-right\">29,473.26</td>\n</tr>\n<tr>\n<td>101</td>\n<td class=\"td-left\">0138</td>\n<td class=\"td-left\">金鹏期货</td>\n<td class=\"td-right\">6,365</td>\n<td>101</td>\n<td class=\"td-left\">0138</td>\n<td class=\"td-left\">金鹏期货</td>\n<td class=\"td-right\">27,976.68</td>\n</tr>\n<tr>\n<td>102</td>\n<td class=\"td-left\">0075</td>\n<td class=\"td-left\">东方汇金期货</td>\n<td class=\"td-right\">6,225</td>\n<td>102</td>\n<td class=\"td-left\">0075</td>\n<td class=\"td-left\">东方汇金期货</td>\n<td class=\"td-right\">27,786.79</td>\n</tr>\n<tr>\n<td>103</td>\n<td class=\"td-left\">0161</td>\n<td class=\"td-left\">中州期货</td>\n<td class=\"td-right\">6,197</td>\n<td>103</td>\n<td class=\"td-left\">0021</td>\n<td class=\"td-left\">上海东方</td>\n<td class=\"td-right\">26,762.21</td>\n</tr>\n<tr>\n<td>104</td>\n<td class=\"td-left\">0050</td>\n<td class=\"td-left\">金石期货</td>\n<td class=\"td-right\">5,646</td>\n<td>104</td>\n<td class=\"td-left\">0061</td>\n<td class=\"td-left\">中融汇信</td>\n<td class=\"td-right\">26,339.87</td>\n</tr>\n<tr>\n<td>105</td>\n<td class=\"td-left\">0118</td>\n<td class=\"td-left\">九州期货</td>\n<td class=\"td-right\">5,511</td>\n<td>105</td>\n<td class=\"td-left\">0108</td>\n<td class=\"td-left\">华融期货</td>\n<td class=\"td-right\">23,896.38</td>\n</tr>\n<tr>\n<td>106</td>\n<td class=\"td-left\">0156</td>\n<td class=\"td-left\">天风期货</td>\n<td class=\"td-right\">5,413</td>\n<td>106</td>\n<td class=\"td-left\">0161</td>\n<td class=\"td-left\">中州期货</td>\n<td class=\"td-right\">23,872.01</td>\n</tr>\n<tr>\n<td>107</td>\n<td class=\"td-left\">0027</td>\n<td class=\"td-left\">中航期货</td>\n<td class=\"td-right\">5,389</td>\n<td>107</td>\n<td class=\"td-left\">0081</td>\n<td class=\"td-left\">南证期货</td>\n<td class=\"td-right\">23,838.42</td>\n</tr>\n<tr>\n<td>108</td>\n<td class=\"td-left\">0108</td>\n<td class=\"td-left\">华融期货</td>\n<td class=\"td-right\">5,337</td>\n<td>108</td>\n<td class=\"td-left\">0122</td>\n<td class=\"td-left\">华创期货</td>\n<td class=\"td-right\">23,041.15</td>\n</tr>\n<tr>\n<td>109</td>\n<td class=\"td-left\">0275</td>\n<td class=\"td-left\">华闻期货</td>\n<td class=\"td-right\">5,330</td>\n<td>109</td>\n<td class=\"td-left\">0156</td>\n<td class=\"td-left\">天风期货</td>\n<td class=\"td-right\">22,842.44</td>\n</tr>\n<tr>\n<td>110</td>\n<td class=\"td-left\">0092</td>\n<td class=\"td-left\">山金期货</td>\n<td class=\"td-right\">5,230</td>\n<td>110</td>\n<td class=\"td-left\">0176</td>\n<td class=\"td-left\">道通期货</td>\n<td class=\"td-right\">22,746.46</td>\n</tr>\n<tr>\n<td>111</td>\n<td class=\"td-left\">0122</td>\n<td class=\"td-left\">华创期货</td>\n<td class=\"td-right\">5,199</td>\n<td>111</td>\n<td class=\"td-left\">0092</td>\n<td class=\"td-left\">山金期货</td>\n<td class=\"td-right\">21,928.72</td>\n</tr>\n<tr>\n<td>112</td>\n<td class=\"td-left\">0021</td>\n<td class=\"td-left\">上海东方</td>\n<td class=\"td-right\">5,067</td>\n<td>112</td>\n<td class=\"td-left\">0027</td>\n<td class=\"td-left\">中航期货</td>\n<td class=\"td-right\">21,764.99</td>\n</tr>\n<tr>\n<td>113</td>\n<td class=\"td-left\">0199</td>\n<td class=\"td-left\">汇鑫期货</td>\n<td class=\"td-right\">5,042</td>\n<td>113</td>\n<td class=\"td-left\">0199</td>\n<td class=\"td-left\">汇鑫期货</td>\n<td class=\"td-right\">20,720.77</td>\n</tr>\n<tr>\n<td>114</td>\n<td class=\"td-left\">0071</td>\n<td class=\"td-left\">西南期货</td>\n<td class=\"td-right\">5,022</td>\n<td>114</td>\n<td class=\"td-left\">0118</td>\n<td class=\"td-left\">九州期货</td>\n<td class=\"td-right\">20,493.35</td>\n</tr>\n<tr>\n<td>115</td>\n<td class=\"td-left\">0176</td>\n<td class=\"td-left\">道通期货</td>\n<td class=\"td-right\">4,188</td>\n<td>115</td>\n<td class=\"td-left\">0232</td>\n<td class=\"td-left\">金信期货</td>\n<td class=\"td-right\">19,893.94</td>\n</tr>\n<tr>\n<td>116</td>\n<td class=\"td-left\">0169</td>\n<td class=\"td-left\">鑫鼎盛期货</td>\n<td class=\"td-right\">4,154</td>\n<td>116</td>\n<td class=\"td-left\">0071</td>\n<td class=\"td-left\">西南期货</td>\n<td class=\"td-right\">18,174.75</td>\n</tr>\n<tr>\n<td>117</td>\n<td class=\"td-left\">0082</td>\n<td class=\"td-left\">摩根大通</td>\n<td class=\"td-right\">4,141</td>\n<td>117</td>\n<td class=\"td-left\">0205</td>\n<td class=\"td-left\">上海浙石</td>\n<td class=\"td-right\">18,089.21</td>\n</tr>\n<tr>\n<td>118</td>\n<td class=\"td-left\">0033</td>\n<td class=\"td-left\">华龙期货</td>\n<td class=\"td-right\">4,006</td>\n<td>118</td>\n<td class=\"td-left\">0099</td>\n<td class=\"td-left\">天鸿期货</td>\n<td class=\"td-right\">17,521.64</td>\n</tr>\n<tr>\n<td>119</td>\n<td class=\"td-left\">0232</td>\n<td class=\"td-left\">金信期货</td>\n<td class=\"td-right\">3,974</td>\n<td>119</td>\n<td class=\"td-left\">0169</td>\n<td class=\"td-left\">鑫鼎盛期货</td>\n<td class=\"td-right\">16,678.51</td>\n</tr>\n<tr>\n<td>120</td>\n<td class=\"td-left\">0099</td>\n<td class=\"td-left\">天鸿期货</td>\n<td class=\"td-right\">3,821</td>\n<td>120</td>\n<td class=\"td-left\">0033</td>\n<td class=\"td-left\">华龙期货</td>\n<td class=\"td-right\">15,217.69</td>\n</tr>\n<tr>\n<td>121</td>\n<td class=\"td-left\">0265</td>\n<td class=\"td-left\">财达期货</td>\n<td class=\"td-right\">3,765</td>\n<td>121</td>\n<td class=\"td-left\">0195</td>\n<td class=\"td-left\">大连良运</td>\n<td class=\"td-right\">14,935.78</td>\n</tr>\n<tr>\n<td>122</td>\n<td class=\"td-left\">0195</td>\n<td class=\"td-left\">大连良运</td>\n<td class=\"td-right\">3,699</td>\n<td>122</td>\n<td class=\"td-left\">0004</td>\n<td class=\"td-left\">中钢期货</td>\n<td class=\"td-right\">14,561.91</td>\n</tr>\n<tr>\n<td>123</td>\n<td class=\"td-left\">0235</td>\n<td class=\"td-left\">新晟期货</td>\n<td class=\"td-right\">3,591</td>\n<td>123</td>\n<td class=\"td-left\">0265</td>\n<td class=\"td-left\">财达期货</td>\n<td class=\"td-right\">14,045.71</td>\n</tr>\n<tr>\n<td>124</td>\n<td class=\"td-left\">0131</td>\n<td class=\"td-left\">首创京都期货</td>\n<td class=\"td-right\">3,446</td>\n<td>124</td>\n<td class=\"td-left\">0235</td>\n<td class=\"td-left\">新晟期货</td>\n<td class=\"td-right\">13,945.78</td>\n</tr>\n<tr>\n<td>125</td>\n<td class=\"td-left\">0004</td>\n<td class=\"td-left\">中钢期货</td>\n<td class=\"td-right\">3,217</td>\n<td>125</td>\n<td class=\"td-left\">0249</td>\n<td class=\"td-left\">上海东亚</td>\n<td class=\"td-right\">13,515.62</td>\n</tr>\n<tr>\n<td>126</td>\n<td class=\"td-left\">0019</td>\n<td class=\"td-left\">江苏东华</td>\n<td class=\"td-right\">3,173</td>\n<td>126</td>\n<td class=\"td-left\">0066</td>\n<td class=\"td-left\">云晨期货</td>\n<td class=\"td-right\">12,992.24</td>\n</tr>\n<tr>\n<td>127</td>\n<td class=\"td-left\">0066</td>\n<td class=\"td-left\">云晨期货</td>\n<td class=\"td-right\">3,070</td>\n<td>127</td>\n<td class=\"td-left\">0082</td>\n<td class=\"td-left\">摩根大通</td>\n<td class=\"td-right\">12,810.83</td>\n</tr>\n<tr>\n<td>128</td>\n<td class=\"td-left\">0100</td>\n<td class=\"td-left\">中银国际</td>\n<td class=\"td-right\">2,834</td>\n<td>128</td>\n<td class=\"td-left\">0134</td>\n<td class=\"td-left\">山西三立</td>\n<td class=\"td-right\">12,650.02</td>\n</tr>\n<tr>\n<td>129</td>\n<td class=\"td-left\">0205</td>\n<td class=\"td-left\">上海浙石</td>\n<td class=\"td-right\">2,689</td>\n<td>129</td>\n<td class=\"td-left\">0019</td>\n<td class=\"td-left\">江苏东华</td>\n<td class=\"td-right\">12,571.09</td>\n</tr>\n<tr>\n<td>130</td>\n<td class=\"td-left\">0249</td>\n<td class=\"td-left\">上海东亚</td>\n<td class=\"td-right\">2,664</td>\n<td>130</td>\n<td class=\"td-left\">0100</td>\n<td class=\"td-left\">中银国际</td>\n<td class=\"td-right\">12,141.94</td>\n</tr>\n<tr>\n<td>131</td>\n<td class=\"td-left\">0093</td>\n<td class=\"td-left\">深圳金汇</td>\n<td class=\"td-right\">2,421</td>\n<td>131</td>\n<td class=\"td-left\">0131</td>\n<td class=\"td-left\">首创京都期货</td>\n<td class=\"td-right\">12,035.83</td>\n</tr>\n<tr>\n<td>132</td>\n<td class=\"td-left\">0098</td>\n<td class=\"td-left\">第一创业</td>\n<td class=\"td-right\">2,327</td>\n<td>132</td>\n<td class=\"td-left\">0098</td>\n<td class=\"td-left\">第一创业</td>\n<td class=\"td-right\">9,411.31</td>\n</tr>\n<tr>\n<td>133</td>\n<td class=\"td-left\">0134</td>\n<td class=\"td-left\">山西三立</td>\n<td class=\"td-right\">2,324</td>\n<td>133</td>\n<td class=\"td-left\">0093</td>\n<td class=\"td-left\">深圳金汇</td>\n<td class=\"td-right\">9,237.44</td>\n</tr>\n<tr>\n<td>134</td>\n<td class=\"td-left\">0031</td>\n<td class=\"td-left\">中金期货</td>\n<td class=\"td-right\">1,983</td>\n<td>134</td>\n<td class=\"td-left\">0031</td>\n<td class=\"td-left\">中金期货</td>\n<td class=\"td-right\">8,735.15</td>\n</tr>\n<tr>\n<td>135</td>\n<td class=\"td-left\">0003</td>\n<td class=\"td-left\">红塔期货</td>\n<td class=\"td-right\">1,892</td>\n<td>135</td>\n<td class=\"td-left\">0079</td>\n<td class=\"td-left\">津投期货</td>\n<td class=\"td-right\">8,179.19</td>\n</tr>\n<tr>\n<td>136</td>\n<td class=\"td-left\">0084</td>\n<td class=\"td-left\">大通期货</td>\n<td class=\"td-right\">1,783</td>\n<td>136</td>\n<td class=\"td-left\">0015</td>\n<td class=\"td-left\">国盛期货</td>\n<td class=\"td-right\">7,419.50</td>\n</tr>\n<tr>\n<td>137</td>\n<td class=\"td-left\">0079</td>\n<td class=\"td-left\">津投期货</td>\n<td class=\"td-right\">1,764</td>\n<td>137</td>\n<td class=\"td-left\">0003</td>\n<td class=\"td-left\">红塔期货</td>\n<td class=\"td-right\">7,320.64</td>\n</tr>\n<tr>\n<td>138</td>\n<td class=\"td-left\">0015</td>\n<td class=\"td-left\">国盛期货</td>\n<td class=\"td-right\">1,682</td>\n<td>138</td>\n<td class=\"td-left\">0182</td>\n<td class=\"td-left\">前海期货</td>\n<td class=\"td-right\">6,867.51</td>\n</tr>\n<tr>\n<td>139</td>\n<td class=\"td-left\">0182</td>\n<td class=\"td-left\">前海期货</td>\n<td class=\"td-right\">1,581</td>\n<td>139</td>\n<td class=\"td-left\">0084</td>\n<td class=\"td-left\">大通期货</td>\n<td class=\"td-right\">5,688.60</td>\n</tr>\n<tr>\n<td>140</td>\n<td class=\"td-left\">0218</td>\n<td class=\"td-left\">河北恒银</td>\n<td class=\"td-right\">1,443</td>\n<td>140</td>\n<td class=\"td-left\">0218</td>\n<td class=\"td-left\">河北恒银</td>\n<td class=\"td-right\">5,360.03</td>\n</tr>\n<tr>\n<td>141</td>\n<td class=\"td-left\">0002</td>\n<td class=\"td-left\">晟鑫期货</td>\n<td class=\"td-right\">1,328</td>\n<td>141</td>\n<td class=\"td-left\">0025</td>\n<td class=\"td-left\">盛达期货</td>\n<td class=\"td-right\">4,869.51</td>\n</tr>\n<tr>\n<td>142</td>\n<td class=\"td-left\">0025</td>\n<td class=\"td-left\">盛达期货</td>\n<td class=\"td-right\">1,226</td>\n<td>142</td>\n<td class=\"td-left\">0002</td>\n<td class=\"td-left\">晟鑫期货</td>\n<td class=\"td-right\">4,737.24</td>\n</tr>\n<tr>\n<td>143</td>\n<td class=\"td-left\">0228</td>\n<td class=\"td-left\">和融期货</td>\n<td class=\"td-right\">1,217</td>\n<td>143</td>\n<td class=\"td-left\">0228</td>\n<td class=\"td-left\">和融期货</td>\n<td class=\"td-right\">4,214.08</td>\n</tr>\n<tr>\n<td>144</td>\n<td class=\"td-left\">0077</td>\n<td class=\"td-left\">天富期货</td>\n<td class=\"td-right\">969</td>\n<td>144</td>\n<td class=\"td-left\">0077</td>\n<td class=\"td-left\">天富期货</td>\n<td class=\"td-right\">4,070.70</td>\n</tr>\n<tr>\n<td>145</td>\n<td class=\"td-left\">0073</td>\n<td class=\"td-left\">华金期货</td>\n<td class=\"td-right\">792</td>\n<td>145</td>\n<td class=\"td-left\">0073</td>\n<td class=\"td-left\">华金期货</td>\n<td class=\"td-right\">3,217.10</td>\n</tr>\n<tr>\n<td>146</td>\n<td class=\"td-left\">0157</td>\n<td class=\"td-left\">新疆天利</td>\n<td class=\"td-right\">338</td>\n<td>146</td>\n<td class=\"td-left\">0157</td>\n<td class=\"td-left\">新疆天利</td>\n<td class=\"td-right\">1,527.75</td>\n</tr>\n<tr>\n<td>147</td>\n<td class=\"td-left\">0233</td>\n<td class=\"td-left\">黑龙江时代</td>\n<td class=\"td-right\">4</td>\n<td>147</td>\n<td class=\"td-left\">0233</td>\n<td class=\"td-left\">黑龙江时代</td>\n<td class=\"td-right\">14.55</td>\n</tr>\n<tr>\n<td>总计</td>\n<td class=\"td-left\"> </td>\n<td class=\"td-left\"> </td>\n<td class=\"td-right\">5,218,226</td>\n<td class=\"td-left\"> </td>\n<td class=\"td-left\"> </td>\n<td class=\"td-left\"> </td>\n<td class=\"td-right\">22,531,426.63</td>\n</tr>\n</table>\n</td>\n</tr>\n"
     ]
    }
   ],
   "source": [
    "#! /usr/bin/python\n",
    "import urllib.request \n",
    "import urllib.error \n",
    "from io import StringIO\n",
    "from bs4 import BeautifulSoup \n",
    "from lxml import etree \n",
    "from lxml import html \n",
    "import lxml.html as lh\n",
    "# doc=lh.parse(s.content)\n",
    "soup = BeautifulSoup(s.text, 'lxml')\n",
    "print(soup.tr)"
   ]
  },
  {
   "cell_type": "code",
   "execution_count": 18,
   "metadata": {},
   "outputs": [],
   "source": [
    "# blurb=doc.xpath('//td[child::*[text()=\"Additional  Info\"]]/following-sibling::td/text()')\n",
    "# \n",
    "# blurb=[text for text in blurb if text != u'\\xa0']\n",
    "# print('\\n'.join(blurb))"
   ]
  },
  {
   "cell_type": "code",
   "execution_count": 24,
   "metadata": {},
   "outputs": [],
   "source": [
    "from lxml import etree\n",
    "from io import StringIO \n",
    "broken_html = \"<html><head><title>test<body><h1>page title</h3>\"\n",
    "parser = etree.HTMLParser()\n",
    "tree = etree.parse(StringIO(broken_html), parser=parser)\n",
    "# print(tree[0].tag)"
   ]
  },
  {
   "cell_type": "code",
   "execution_count": 32,
   "metadata": {},
   "outputs": [
    {
     "name": "stdout",
     "output_type": "stream",
     "text": [
      "\n\n"
     ]
    }
   ],
   "source": [
    "import lxml.html\n",
    "broken_html = \"<html><head><title>test<body><h1>page title</h3>\"\n",
    "broken_html = s.text\n",
    "root = lxml.html.fromstring(broken_html)\n",
    "# lxml.html.tostring(root, encoding='utf-8')\n",
    "\n",
    "print(root.text)"
   ]
  },
  {
   "cell_type": "code",
   "execution_count": 34,
   "metadata": {},
   "outputs": [
    {
     "name": "stdout",
     "output_type": "stream",
     "text": [
      "祝你19岁\n    生日快乐。\n祝你\nNone\n"
     ]
    },
    {
     "ename": "AttributeError",
     "evalue": "'lxml.etree.ElementTextIterator' object has no attribute 'next'",
     "traceback": [
      "\u001b[0;31m---------------------------------------------------------------------------\u001b[0m",
      "\u001b[0;31mAttributeError\u001b[0m                            Traceback (most recent call last)",
      "\u001b[0;32m<ipython-input-34-371091cb8651>\u001b[0m in \u001b[0;36m<module>\u001b[0;34m()\u001b[0m\n\u001b[1;32m     15\u001b[0m \u001b[0mprint\u001b[0m\u001b[0;34m(\u001b[0m\u001b[0mp2\u001b[0m\u001b[0;34m.\u001b[0m\u001b[0mtail\u001b[0m \u001b[0;34m)\u001b[0m     \u001b[0;31m# I get None\u001b[0m\u001b[0;34m\u001b[0m\u001b[0m\n\u001b[1;32m     16\u001b[0m \u001b[0mi\u001b[0m \u001b[0;34m=\u001b[0m \u001b[0mp2\u001b[0m\u001b[0;34m.\u001b[0m\u001b[0mitertext\u001b[0m\u001b[0;34m(\u001b[0m\u001b[0;34m)\u001b[0m\u001b[0;34m\u001b[0m\u001b[0m\n\u001b[0;32m---> 17\u001b[0;31m \u001b[0mprint\u001b[0m\u001b[0;34m(\u001b[0m\u001b[0mi\u001b[0m\u001b[0;34m.\u001b[0m\u001b[0mnext\u001b[0m\u001b[0;34m(\u001b[0m\u001b[0;34m)\u001b[0m\u001b[0;34m)\u001b[0m    \u001b[0;31m# I get \"祝你\"\u001b[0m\u001b[0;34m\u001b[0m\u001b[0m\n\u001b[0m\u001b[1;32m     18\u001b[0m \u001b[0mprint\u001b[0m\u001b[0;34m(\u001b[0m\u001b[0mi\u001b[0m\u001b[0;34m.\u001b[0m\u001b[0mnext\u001b[0m\u001b[0;34m(\u001b[0m\u001b[0;34m)\u001b[0m\u001b[0;34m)\u001b[0m    \u001b[0;31m# I get \"19\" from <span>\u001b[0m\u001b[0;34m\u001b[0m\u001b[0m\n\u001b[1;32m     19\u001b[0m \u001b[0mprint\u001b[0m\u001b[0;34m(\u001b[0m\u001b[0mi\u001b[0m\u001b[0;34m.\u001b[0m\u001b[0mnext\u001b[0m\u001b[0;34m(\u001b[0m\u001b[0;34m)\u001b[0m\u001b[0;34m)\u001b[0m    \u001b[0;31m# I get the tailed text, but how do I assemble them back?\u001b[0m\u001b[0;34m\u001b[0m\u001b[0m\n",
      "\u001b[0;31mAttributeError\u001b[0m: 'lxml.etree.ElementTextIterator' object has no attribute 'next'"
     ],
     "output_type": "error"
    }
   ],
   "source": [
    "import lxml.html\n",
    "import re\n",
    "\n",
    "s1 = u\"\"\"<p>祝你19岁\n",
    "    生日快乐。</p>\"\"\"\n",
    "p1 = lxml.html.fragment_fromstring(s1)\n",
    "print(p1.text)          # I get the whole line.\n",
    "p1.text = re.sub(\"\\s+\", \"\", p1.text)\n",
    "# print(p1.tostring() )   # spaces are removed.\n",
    "\n",
    "s2 = u\"\"\"<p>祝你<span>19</span>岁\n",
    "    生日快乐。</p>\"\"\"\n",
    "p2 = lxml.html.fragment_fromstring(s2)\n",
    "print(p2.text)      # I get \"祝你\"\n",
    "print(p2.tail )     # I get None\n",
    "i = p2.itertext()\n",
    "print(i.next())    # I get \"祝你\"\n",
    "print(i.next())    # I get \"19\" from <span>\n",
    "print(i.next())    # I get the tailed text, but how do I assemble them back?\n",
    "print(p2.text_content())   # The whole text, but how do I put <span> back?"
   ]
  },
  {
   "cell_type": "code",
   "execution_count": 37,
   "metadata": {},
   "outputs": [
    {
     "name": "stdout",
     "output_type": "stream",
     "text": [
      "b'<html><body><p><code>git clone https://github.com/AlexeyAB/darknet.git</code></p></body></html>\\n'\n"
     ]
    }
   ],
   "source": [
    "from lxml import etree\n",
    "from io import StringIO, BytesIO\n",
    "\n",
    "string = \"<p><code>git clone https://github.com/AlexeyAB/darknet.git</code></p>\"\n",
    "parser = etree.HTMLParser()\n",
    "test = etree.fromstring(string, parser)\n",
    "print(etree.tostring(test, pretty_print=True, method=\"html\"))"
   ]
  },
  {
   "cell_type": "code",
   "execution_count": 44,
   "metadata": {},
   "outputs": [
    {
     "name": "stdout",
     "output_type": "stream",
     "text": [
      "html\ntd - None\ntd -  名次 \ntd -  会员号 \ntd -  会员简称 \ntd -  成交量（手）\ntd -  名次 \ntd -  会员号 \ntd -  会员简称 \ntd -  成交额（万元）\ntd - 1\ntd - 0007\ntd - 华泰期货\ntd - 274,893\ntd - 1\ntd - 0083\ntd - 海通期货\ntd - 1,110,974.41\ntd - 2\ntd - 0216\ntd - 建信期货\ntd - 257,241\ntd - 2\ntd - 0007\ntd - 华泰期货\ntd - 1,072,303.05\ntd - 3\ntd - 0083\ntd - 海通期货\ntd - 244,780\ntd - 3\ntd - 0216\ntd - 建信期货\ntd - 1,019,592.86\ntd - 4\ntd - 0055\ntd - 中信期货\ntd - 176,061\ntd - 4\ntd - 0055\ntd - 中信期货\ntd - 741,059.80\ntd - 5\ntd - 0111\ntd - 光大期货\ntd - 159,222\ntd - 5\ntd - 0111\ntd - 光大期货\ntd - 709,956.98\ntd - 6\ntd - 0032\ntd - 徽商期货\ntd - 158,542\ntd - 6\ntd - 0032\ntd - 徽商期货\ntd - 690,954.05\ntd - 7\ntd - 0010\ntd - 招商期货\ntd - 139,606\ntd - 7\ntd - 0010\ntd - 招商期货\ntd - 603,988.95\ntd - 8\ntd - 0186\ntd - 国泰君安\ntd - 121,930\ntd - 8\ntd - 0062\ntd - 金瑞期货\ntd - 583,415.44\ntd - 9\ntd - 0188\ntd - 永安期货\ntd - 119,234\ntd - 9\ntd - 0186\ntd - 国泰君安\ntd - 524,117.95\ntd - 10\ntd - 0062\ntd - 金瑞期货\ntd - 117,531\ntd - 10\ntd - 0188\ntd - 永安期货\ntd - 491,755.21\ntd - 11\ntd - 0039\ntd - 方正中期\ntd - 111,621\ntd - 11\ntd - 0039\ntd - 方正中期\ntd - 479,540.82\ntd - 12\ntd - 0173\ntd - 广发期货\ntd - 99,792\ntd - 12\ntd - 0268\ntd - 兴证期货\ntd - 462,688.83\ntd - 13\ntd - 0268\ntd - 兴证期货\ntd - 97,152\ntd - 13\ntd - 0209\ntd - 华安期货\ntd - 447,789.35\ntd - 14\ntd - 0009\ntd - 国投安信期货\ntd - 96,848\ntd - 14\ntd - 0173\ntd - 广发期货\ntd - 426,081.26\ntd - 15\ntd - 0209\ntd - 华安期货\ntd - 96,169\ntd - 15\ntd - 0202\ntd - 中辉期货\ntd - 424,934.25\ntd - 16\ntd - 0142\ntd - 东航期货\ntd - 93,633\ntd - 16\ntd - 0009\ntd - 国投安信期货\ntd - 407,931.41\ntd - 17\ntd - 0202\ntd - 中辉期货\ntd - 92,000\ntd - 17\ntd - 0142\ntd - 东航期货\ntd - 378,079.52\ntd - 18\ntd - 0051\ntd - 银河期货\ntd - 90,527\ntd - 18\ntd - 0193\ntd - 西部期货\ntd - 366,763.70\ntd - 19\ntd - 0193\ntd - 西部期货\ntd - 79,482\ntd - 19\ntd - 0051\ntd - 银河期货\ntd - 359,221.26\ntd - 20\ntd - 0020\ntd - 弘业期货\ntd - 77,605\ntd - 20\ntd - 0069\ntd - 华信期货\ntd - 342,240.09\ntd - 21\ntd - 0203\ntd - 宏源期货\ntd - 73,169\ntd - 21\ntd - 0203\ntd - 宏源期货\ntd - 334,722.11\ntd - 22\ntd - 0210\ntd - 东海期货\ntd - 72,923\ntd - 22\ntd - 0210\ntd - 东海期货\ntd - 327,740.23\ntd - 23\ntd - 0038\ntd - 申银万国\ntd - 71,084\ntd - 23\ntd - 0038\ntd - 申银万国\ntd - 314,143.88\ntd - 24\ntd - 0069\ntd - 华信期货\ntd - 70,208\ntd - 24\ntd - 0091\ntd - 创元期货\ntd - 307,080.81\ntd - 25\ntd - 0212\ntd - 南华期货\ntd - 69,876\ntd - 25\ntd - 0139\ntd - 安粮期货\ntd - 298,791.51\ntd - 26\ntd - 0109\ntd - 东证期货\ntd - 69,653\ntd - 26\ntd - 0189\ntd - 冠通期货\ntd - 293,513.42\ntd - 27\ntd - 0091\ntd - 创元期货\ntd - 67,647\ntd - 27\ntd - 0020\ntd - 弘业期货\ntd - 286,775.93\ntd - 28\ntd - 0139\ntd - 安粮期货\ntd - 65,214\ntd - 28\ntd - 0109\ntd - 东证期货\ntd - 285,972.35\ntd - 29\ntd - 0189\ntd - 冠通期货\ntd - 61,995\ntd - 29\ntd - 0212\ntd - 南华期货\ntd - 276,373.11\ntd - 30\ntd - 0241\ntd - 首创期货\ntd - 61,065\ntd - 30\ntd - 0168\ntd - 中信建投\ntd - 275,058.89\ntd - 31\ntd - 0101\ntd - 国贸期货\ntd - 60,267\ntd - 31\ntd - 0241\ntd - 首创期货\ntd - 253,581.35\ntd - 32\ntd - 0068\ntd - 中粮期货\ntd - 57,504\ntd - 32\ntd - 0068\ntd - 中粮期货\ntd - 246,601.05\ntd - 33\ntd - 0168\ntd - 中信建投\ntd - 55,438\ntd - 33\ntd - 0101\ntd - 国贸期货\ntd - 231,898.80\ntd - 34\ntd - 0076\ntd - 长江期货\ntd - 48,600\ntd - 34\ntd - 0076\ntd - 长江期货\ntd - 197,493.91\ntd - 35\ntd - 0190\ntd - 国海良时\ntd - 47,613\ntd - 35\ntd - 0018\ntd - 国信期货\ntd - 193,144.15\ntd - 36\ntd - 0018\ntd - 国信期货\ntd - 45,721\ntd - 36\ntd - 0058\ntd - 鲁证期货\ntd - 191,806.26\ntd - 37\ntd - 0058\ntd - 鲁证期货\ntd - 43,800\ntd - 37\ntd - 0190\ntd - 国海良时\ntd - 190,234.10\ntd - 38\ntd - 0163\ntd - 五矿经易期货\ntd - 41,365\ntd - 38\ntd - 0191\ntd - 广州金控\ntd - 171,221.26\ntd - 39\ntd - 0113\ntd - 浙商期货\ntd - 39,495\ntd - 39\ntd - 0113\ntd - 浙商期货\ntd - 165,054.47\ntd - 40\ntd - 0141\ntd - 中国国际\ntd - 37,341\ntd - 40\ntd - 0141\ntd - 中国国际\ntd - 163,983.75\ntd - 41\ntd - 0095\ntd - 大地期货\ntd - 37,150\ntd - 41\ntd - 0185\ntd - 东吴期货\ntd - 158,435.62\ntd - 42\ntd - 0185\ntd - 东吴期货\ntd - 36,654\ntd - 42\ntd - 0095\ntd - 大地期货\ntd - 150,007.36\ntd - 43\ntd - 0174\ntd - 国联期货\ntd - 36,109\ntd - 43\ntd - 0234\ntd - 新湖期货\ntd - 149,329.12\ntd - 44\ntd - 0191\ntd - 广州金控\ntd - 35,311\ntd - 44\ntd - 0278\ntd - 平安期货\ntd - 148,419.92\ntd - 45\ntd - 0234\ntd - 新湖期货\ntd - 34,890\ntd - 45\ntd - 0008\ntd - 上海大陆\ntd - 147,604.62\ntd - 46\ntd - 0278\ntd - 平安期货\ntd - 33,717\ntd - 46\ntd - 0163\ntd - 五矿经易期货\ntd - 143,931.05\ntd - 47\ntd - 0008\ntd - 上海大陆\ntd - 33,109\ntd - 47\ntd - 0107\ntd - 美尔雅\ntd - 142,913.94\ntd - 48\ntd - 0179\ntd - 上海中期\ntd - 32,652\ntd - 48\ntd - 0016\ntd - 格林大华期货\ntd - 140,460.62\ntd - 49\ntd - 0107\ntd - 美尔雅\ntd - 32,274\ntd - 49\ntd - 0174\ntd - 国联期货\ntd - 137,377.58\ntd - 50\ntd - 0094\ntd - 兴业期货\ntd - 30,961\ntd - 50\ntd - 0262\ntd - 一德期货\ntd - 136,974.69\ntd - 51\ntd - 0016\ntd - 格林大华期货\ntd - 28,989\ntd - 51\ntd - 0147\ntd - 长安期货\ntd - 133,388.46\ntd - 52\ntd - 0121\ntd - 瑞达期货\ntd - 28,668\ntd - 52\ntd - 0179\ntd - 上海中期\ntd - 132,678.14\ntd - 53\ntd - 0001\ntd - 华西期货\ntd - 27,974\ntd - 53\ntd - 0001\ntd - 华西期货\ntd - 132,343.98\ntd - 54\ntd - 0147\ntd - 长安期货\ntd - 27,269\ntd - 54\ntd - 0222\ntd - 海证期货\ntd - 131,234.92\ntd - 55\ntd - 0183\ntd - 华鑫期货\ntd - 27,256\ntd - 55\ntd - 0121\ntd - 瑞达期货\ntd - 127,967.17\ntd - 56\ntd - 0017\ntd - 中财期货\ntd - 27,016\ntd - 56\ntd - 0149\ntd - 大有期货\ntd - 123,748.27\ntd - 57\ntd - 0262\ntd - 一德期货\ntd - 26,398\ntd - 57\ntd - 0215\ntd - 深圳瑞龙\ntd - 112,307.26\ntd - 58\ntd - 0043\ntd - 国元期货\ntd - 26,253\ntd - 58\ntd - 0017\ntd - 中财期货\ntd - 109,925.61\ntd - 59\ntd - 0222\ntd - 海证期货\ntd - 26,077\ntd - 59\ntd - 0110\ntd - 国金期货\ntd - 108,672.17\ntd - 60\ntd - 0215\ntd - 深圳瑞龙\ntd - 25,587\ntd - 60\ntd - 0011\ntd - 宝城期货\ntd - 108,446.47\ntd - 61\ntd - 0110\ntd - 国金期货\ntd - 25,326\ntd - 61\ntd - 0094\ntd - 兴业期货\ntd - 106,433.70\ntd - 62\ntd - 0011\ntd - 宝城期货\ntd - 25,235\ntd - 62\ntd - 0052\ntd - 渤海期货\ntd - 105,457.86\ntd - 63\ntd - 0258\ntd - 中衍期货\ntd - 24,242\ntd - 63\ntd - 0258\ntd - 中衍期货\ntd - 104,412.60\ntd - 64\ntd - 0114\ntd - 信达期货\ntd - 23,413\ntd - 64\ntd - 0183\ntd - 华鑫期货\ntd - 103,914.91\ntd - 65\ntd - 0052\ntd - 渤海期货\ntd - 23,289\ntd - 65\ntd - 0160\ntd - 国富期货\ntd - 99,785.45\ntd - 66\ntd - 0149\ntd - 大有期货\ntd - 23,149\ntd - 66\ntd - 0114\ntd - 信达期货\ntd - 98,361.69\ntd - 67\ntd - 0088\ntd - 中原期货\ntd - 23,092\ntd - 67\ntd - 0043\ntd - 国元期货\ntd - 98,013.92\ntd - 68\ntd - 0160\ntd - 国富期货\ntd - 22,791\ntd - 68\ntd - 0198\ntd - 英大期货\ntd - 94,738.21\ntd - 69\ntd - 0225\ntd - 广州期货\ntd - 21,019\ntd - 69\ntd - 0088\ntd - 中原期货\ntd - 93,611.60\ntd - 70\ntd - 0198\ntd - 英大期货\ntd - 20,604\ntd - 70\ntd - 0225\ntd - 广州期货\ntd - 92,106.36\ntd - 71\ntd - 0175\ntd - 中大期货\ntd - 19,649\ntd - 71\ntd - 0087\ntd - 铜冠金源\ntd - 92,101.51\ntd - 72\ntd - 0087\ntd - 铜冠金源\ntd - 19,181\ntd - 72\ntd - 0175\ntd - 中大期货\ntd - 88,009.31\ntd - 73\ntd - 0178\ntd - 倍特期货\ntd - 17,508\ntd - 73\ntd - 0103\ntd - 招金期货\ntd - 77,401.94\ntd - 74\ntd - 0080\ntd - 福能期货\ntd - 17,456\ntd - 74\ntd - 0080\ntd - 福能期货\ntd - 77,068.89\ntd - 75\ntd - 0103\ntd - 招金期货\ntd - 15,605\ntd - 75\ntd - 0206\ntd - 中电投先融\ntd - 72,741.70\ntd - 76\ntd - 0269\ntd - 同信久恒\ntd - 15,110\ntd - 76\ntd - 0102\ntd - 迈科期货\ntd - 68,152.51\ntd - 77\ntd - 0102\ntd - 迈科期货\ntd - 14,864\ntd - 77\ntd - 0178\ntd - 倍特期货\ntd - 67,653.65\ntd - 78\ntd - 0005\ntd - 新纪元期货\ntd - 14,078\ntd - 78\ntd - 0155\ntd - 中投天琪\ntd - 63,532.89\ntd - 79\ntd - 0155\ntd - 中投天琪\ntd - 14,047\ntd - 79\ntd - 0005\ntd - 新纪元期货\ntd - 59,536.05\ntd - 80\ntd - 0206\ntd - 中电投先融\ntd - 14,032\ntd - 80\ntd - 0269\ntd - 同信久恒\ntd - 58,907.02\ntd - 81\ntd - 0236\ntd - 通惠期货\ntd - 12,999\ntd - 81\ntd - 0060\ntd - 东兴期货\ntd - 53,012.78\ntd - 82\ntd - 0133\ntd - 华联期货\ntd - 12,684\ntd - 82\ntd - 0133\ntd - 华联期货\ntd - 52,809.73\ntd - 83\ntd - 0254\ntd - 大越期货\ntd - 11,909\ntd - 83\ntd - 0226\ntd - 德盛期货\ntd - 51,421.95\ntd - 84\ntd - 0226\ntd - 德盛期货\ntd - 11,734\ntd - 84\ntd - 0243\ntd - 锦泰期货\ntd - 50,815.15\ntd - 85\ntd - 0246\ntd - 恒泰期货\ntd - 11,620\ntd - 85\ntd - 0246\ntd - 恒泰期货\ntd - 48,500.29\ntd - 86\ntd - 0123\ntd - 浙江新世纪\ntd - 11,533\ntd - 86\ntd - 0123\ntd - 浙江新世纪\ntd - 47,998.52\ntd - 87\ntd - 0060\ntd - 东兴期货\ntd - 11,438\ntd - 87\ntd - 0254\ntd - 大越期货\ntd - 47,920.16\ntd - 88\ntd - 0037\ntd - 集成期货\ntd - 11,139\ntd - 88\ntd - 0086\ntd - 金元期货\ntd - 42,929.78\ntd - 89\ntd - 0243\ntd - 锦泰期货\ntd - 10,510\ntd - 89\ntd - 0037\ntd - 集成期货\ntd - 41,184.64\ntd - 90\ntd - 0086\ntd - 金元期货\ntd - 9,825\ntd - 90\ntd - 0196\ntd - 混沌天成期货\ntd - 39,128.97\ntd - 91\ntd - 0026\ntd - 海航期货\ntd - 8,109\ntd - 91\ntd - 0117\ntd - 国都期货\ntd - 38,735.53\ntd - 92\ntd - 0159\ntd - 中天期货\ntd - 7,574\ntd - 92\ntd - 0236\ntd - 通惠期货\ntd - 36,869.70\ntd - 93\ntd - 0196\ntd - 混沌天成期货\ntd - 7,449\ntd - 93\ntd - 0026\ntd - 海航期货\ntd - 35,652.29\ntd - 94\ntd - 0022\ntd - 江西瑞奇\ntd - 7,440\ntd - 94\ntd - 0159\ntd - 中天期货\ntd - 34,979.22\ntd - 95\ntd - 0146\ntd - 和合期货\ntd - 7,374\ntd - 95\ntd - 0022\ntd - 江西瑞奇\ntd - 33,134.06\ntd - 96\ntd - 0274\ntd - 神华期货\ntd - 7,350\ntd - 96\ntd - 0148\ntd - 民生期货\ntd - 32,272.81\ntd - 97\ntd - 0117\ntd - 国都期货\ntd - 7,271\ntd - 97\ntd - 0274\ntd - 神华期货\ntd - 31,620.34\ntd - 98\ntd - 0081\ntd - 南证期货\ntd - 6,907\ntd - 98\ntd - 0275\ntd - 华闻期货\ntd - 29,969.45\ntd - 99\ntd - 0061\ntd - 中融汇信\ntd - 6,542\ntd - 99\ntd - 0050\ntd - 金石期货\ntd - 29,645.76\ntd - 100\ntd - 0148\ntd - 民生期货\ntd - 6,489\ntd - 100\ntd - 0146\ntd - 和合期货\ntd - 29,473.26\ntd - 101\ntd - 0138\ntd - 金鹏期货\ntd - 6,365\ntd - 101\ntd - 0138\ntd - 金鹏期货\ntd - 27,976.68\ntd - 102\ntd - 0075\ntd - 东方汇金期货\ntd - 6,225\ntd - 102\ntd - 0075\ntd - 东方汇金期货\ntd - 27,786.79\ntd - 103\ntd - 0161\ntd - 中州期货\ntd - 6,197\ntd - 103\ntd - 0021\ntd - 上海东方\ntd - 26,762.21\ntd - 104\ntd - 0050\ntd - 金石期货\ntd - 5,646\ntd - 104\ntd - 0061\ntd - 中融汇信\ntd - 26,339.87\ntd - 105\ntd - 0118\ntd - 九州期货\ntd - 5,511\ntd - 105\ntd - 0108\ntd - 华融期货\ntd - 23,896.38\ntd - 106\ntd - 0156\ntd - 天风期货\ntd - 5,413\ntd - 106\ntd - 0161\ntd - 中州期货\ntd - 23,872.01\ntd - 107\ntd - 0027\ntd - 中航期货\ntd - 5,389\ntd - 107\ntd - 0081\ntd - 南证期货\ntd - 23,838.42\ntd - 108\ntd - 0108\ntd - 华融期货\ntd - 5,337\ntd - 108\ntd - 0122\ntd - 华创期货\ntd - 23,041.15\ntd - 109\ntd - 0275\ntd - 华闻期货\ntd - 5,330\ntd - 109\ntd - 0156\ntd - 天风期货\ntd - 22,842.44\ntd - 110\ntd - 0092\ntd - 山金期货\ntd - 5,230\ntd - 110\ntd - 0176\ntd - 道通期货\ntd - 22,746.46\ntd - 111\ntd - 0122\ntd - 华创期货\ntd - 5,199\ntd - 111\ntd - 0092\ntd - 山金期货\ntd - 21,928.72\ntd - 112\ntd - 0021\ntd - 上海东方\ntd - 5,067\ntd - 112\ntd - 0027\ntd - 中航期货\ntd - 21,764.99\ntd - 113\ntd - 0199\ntd - 汇鑫期货\ntd - 5,042\ntd - 113\ntd - 0199\ntd - 汇鑫期货\ntd - 20,720.77\ntd - 114\ntd - 0071\ntd - 西南期货\ntd - 5,022\ntd - 114\ntd - 0118\ntd - 九州期货\ntd - 20,493.35\ntd - 115\ntd - 0176\ntd - 道通期货\ntd - 4,188\ntd - 115\ntd - 0232\ntd - 金信期货\ntd - 19,893.94\ntd - 116\ntd - 0169\ntd - 鑫鼎盛期货\ntd - 4,154\ntd - 116\ntd - 0071\ntd - 西南期货\ntd - 18,174.75\ntd - 117\ntd - 0082\ntd - 摩根大通\ntd - 4,141\ntd - 117\ntd - 0205\ntd - 上海浙石\ntd - 18,089.21\ntd - 118\ntd - 0033\ntd - 华龙期货\ntd - 4,006\ntd - 118\ntd - 0099\ntd - 天鸿期货\ntd - 17,521.64\ntd - 119\ntd - 0232\ntd - 金信期货\ntd - 3,974\ntd - 119\ntd - 0169\ntd - 鑫鼎盛期货\ntd - 16,678.51\ntd - 120\ntd - 0099\ntd - 天鸿期货\ntd - 3,821\ntd - 120\ntd - 0033\ntd - 华龙期货\ntd - 15,217.69\ntd - 121\ntd - 0265\ntd - 财达期货\ntd - 3,765\ntd - 121\ntd - 0195\ntd - 大连良运\ntd - 14,935.78\ntd - 122\ntd - 0195\ntd - 大连良运\ntd - 3,699\ntd - 122\ntd - 0004\ntd - 中钢期货\ntd - 14,561.91\ntd - 123\ntd - 0235\ntd - 新晟期货\ntd - 3,591\ntd - 123\ntd - 0265\ntd - 财达期货\ntd - 14,045.71\ntd - 124\ntd - 0131\ntd - 首创京都期货\ntd - 3,446\ntd - 124\ntd - 0235\ntd - 新晟期货\ntd - 13,945.78\ntd - 125\ntd - 0004\ntd - 中钢期货\ntd - 3,217\ntd - 125\ntd - 0249\ntd - 上海东亚\ntd - 13,515.62\ntd - 126\ntd - 0019\ntd - 江苏东华\ntd - 3,173\ntd - 126\ntd - 0066\ntd - 云晨期货\ntd - 12,992.24\ntd - 127\ntd - 0066\ntd - 云晨期货\ntd - 3,070\ntd - 127\ntd - 0082\ntd - 摩根大通\ntd - 12,810.83\ntd - 128\ntd - 0100\ntd - 中银国际\ntd - 2,834\ntd - 128\ntd - 0134\ntd - 山西三立\ntd - 12,650.02\ntd - 129\ntd - 0205\ntd - 上海浙石\ntd - 2,689\ntd - 129\ntd - 0019\ntd - 江苏东华\ntd - 12,571.09\ntd - 130\ntd - 0249\ntd - 上海东亚\ntd - 2,664\ntd - 130\ntd - 0100\ntd - 中银国际\ntd - 12,141.94\ntd - 131\ntd - 0093\ntd - 深圳金汇\ntd - 2,421\ntd - 131\ntd - 0131\ntd - 首创京都期货\ntd - 12,035.83\ntd - 132\ntd - 0098\ntd - 第一创业\ntd - 2,327\ntd - 132\ntd - 0098\ntd - 第一创业\ntd - 9,411.31\ntd - 133\ntd - 0134\ntd - 山西三立\ntd - 2,324\ntd - 133\ntd - 0093\ntd - 深圳金汇\ntd - 9,237.44\ntd - 134\ntd - 0031\ntd - 中金期货\ntd - 1,983\ntd - 134\ntd - 0031\ntd - 中金期货\ntd - 8,735.15\ntd - 135\ntd - 0003\ntd - 红塔期货\ntd - 1,892\ntd - 135\ntd - 0079\ntd - 津投期货\ntd - 8,179.19\ntd - 136\ntd - 0084\ntd - 大通期货\ntd - 1,783\ntd - 136\ntd - 0015\ntd - 国盛期货\ntd - 7,419.50\ntd - 137\ntd - 0079\ntd - 津投期货\ntd - 1,764\ntd - 137\ntd - 0003\ntd - 红塔期货\ntd - 7,320.64\ntd - 138\ntd - 0015\ntd - 国盛期货\ntd - 1,682\ntd - 138\ntd - 0182\ntd - 前海期货\ntd - 6,867.51\ntd - 139\ntd - 0182\ntd - 前海期货\ntd - 1,581\ntd - 139\ntd - 0084\ntd - 大通期货\ntd - 5,688.60\ntd - 140\ntd - 0218\ntd - 河北恒银\ntd - 1,443\ntd - 140\ntd - 0218\ntd - 河北恒银\ntd - 5,360.03\ntd - 141\ntd - 0002\ntd - 晟鑫期货\ntd - 1,328\ntd - 141\ntd - 0025\ntd - 盛达期货\ntd - 4,869.51\ntd - 142\ntd - 0025\ntd - 盛达期货\ntd - 1,226\ntd - 142\ntd - 0002\ntd - 晟鑫期货\ntd - 4,737.24\ntd - 143\ntd - 0228\ntd - 和融期货\ntd - 1,217\ntd - 143\ntd - 0228\ntd - 和融期货\ntd - 4,214.08\ntd - 144\ntd - 0077\ntd - 天富期货\ntd - 969\ntd - 144\ntd - 0077\ntd - 天富期货\ntd - 4,070.70\ntd - 145\ntd - 0073\ntd - 华金期货\ntd - 792\ntd - 145\ntd - 0073\ntd - 华金期货\ntd - 3,217.10\ntd - 146\ntd - 0157\ntd - 新疆天利\ntd - 338\ntd - 146\ntd - 0157\ntd - 新疆天利\ntd - 1,527.75\ntd - 147\ntd - 0233\ntd - 黑龙江时代\ntd - 4\ntd - 147\ntd - 0233\ntd - 黑龙江时代\ntd - 14.55\ntd - 总计\ntd -  \ntd -  \ntd - 5,218,226\ntd -  \ntd -  \ntd -  \ntd - 22,531,426.63\ntd - None\n"
     ]
    }
   ],
   "source": [
    "from lxml import etree\n",
    "from io import StringIO, BytesIO\n",
    "\n",
    "string = \"<p><code>git clone https://github.com/AlexeyAB/darknet.git</code></p>\"\n",
    "parser = etree.HTMLParser()\n",
    "root = etree.fromstring(s.text, parser)\n",
    "# print(etree.tostring(test, pretty_print=True, method=\"html\"))\n",
    "# build_text_list = etree.XPath(\"//tr\")\n",
    "# print(build_text_list)\n",
    "print(root.tag)\n",
    "for element in root.iter(\"td\"):\n",
    "    print(\"%s - %s\" % (element.tag, element.text))"
   ]
  },
  {
   "cell_type": "code",
   "execution_count": 46,
   "metadata": {},
   "outputs": [],
   "source": [
    "# print(etree.tostring(root, pretty_print=True))"
   ]
  },
  {
   "cell_type": "code",
   "execution_count": 48,
   "metadata": {},
   "outputs": [
    {
     "name": "stdout",
     "output_type": "stream",
     "text": [
      "head\n2\n"
     ]
    }
   ],
   "source": [
    "child = root[0]\n",
    "print(child.tag)\n",
    "print(len(root))"
   ]
  },
  {
   "cell_type": "code",
   "execution_count": 62,
   "metadata": {},
   "outputs": [
    {
     "name": "stdout",
     "output_type": "stream",
     "text": [
      "body\ntable\ntr\n\n\ntd\nNone\ntr\n\n\ntd\nNone\nscript\n"
     ]
    }
   ],
   "source": [
    "children = list(root)\n",
    "# root[0] = root[-1]\n",
    "for child in root:\n",
    "    print(child.tag)\n",
    "    for grandchild in child:\n",
    "        print(grandchild.tag)\n",
    "        for gg_child in grandchild:\n",
    "            print(gg_child.tag)\n",
    "            print(gg_child.text)\n",
    "            for ggg_c in gg_child:\n",
    "                print(ggg_c.tag)\n",
    "                print(ggg_c.text)"
   ]
  },
  {
   "cell_type": "code",
   "execution_count": 65,
   "metadata": {},
   "outputs": [
    {
     "name": "stdout",
     "output_type": "stream",
     "text": [
      "tr - \n\ntd - None\ntr - \n\ntd -  名次 \ntd -  会员号 \ntd -  会员简称 \ntd -  成交量（手）\ntd -  名次 \ntd -  会员号 \ntd -  会员简称 \ntd -  成交额（万元）\ntr - \n\ntd - 1\ntd - 0007\ntd - 华泰期货\ntd - 274,893\ntd - 1\ntd - 0083\ntd - 海通期货\ntd - 1,110,974.41\ntr - \n\ntd - 2\ntd - 0216\ntd - 建信期货\ntd - 257,241\ntd - 2\ntd - 0007\ntd - 华泰期货\ntd - 1,072,303.05\ntr - \n\ntd - 3\ntd - 0083\ntd - 海通期货\ntd - 244,780\ntd - 3\ntd - 0216\ntd - 建信期货\ntd - 1,019,592.86\ntr - \n\ntd - 4\ntd - 0055\ntd - 中信期货\ntd - 176,061\ntd - 4\ntd - 0055\ntd - 中信期货\ntd - 741,059.80\n"
     ]
    }
   ],
   "source": [
    "# tr\n",
    "i = 5\n",
    "for element in root.iter(\"tr\"):\n",
    "    print(\"%s - %s\" % (element.tag, element.text))\n",
    "    for child in element:\n",
    "        print(\"%s - %s\" % (child.tag, child.text))\n",
    "    i -= 1\n",
    "    if i < 0:\n",
    "        break"
   ]
  },
  {
   "cell_type": "code",
   "execution_count": 74,
   "metadata": {},
   "outputs": [
    {
     "ename": "AttributeError",
     "evalue": "'list' object has no attribute 'to_csv'",
     "traceback": [
      "\u001b[0;31m---------------------------------------------------------------------------\u001b[0m",
      "\u001b[0;31mAttributeError\u001b[0m                            Traceback (most recent call last)",
      "\u001b[0;32m<ipython-input-74-e1d396094b0c>\u001b[0m in \u001b[0;36m<module>\u001b[0;34m()\u001b[0m\n\u001b[1;32m      1\u001b[0m \u001b[0;32mimport\u001b[0m \u001b[0mpandas\u001b[0m \u001b[0;32mas\u001b[0m \u001b[0mpd\u001b[0m\u001b[0;34m\u001b[0m\u001b[0m\n\u001b[1;32m      2\u001b[0m \u001b[0mdf\u001b[0m \u001b[0;34m=\u001b[0m \u001b[0mpd\u001b[0m\u001b[0;34m.\u001b[0m\u001b[0mread_html\u001b[0m\u001b[0;34m(\u001b[0m\u001b[0ms\u001b[0m\u001b[0;34m.\u001b[0m\u001b[0mcontent\u001b[0m\u001b[0;34m,\u001b[0m \u001b[0mencoding\u001b[0m\u001b[0;34m=\u001b[0m\u001b[0;34m'gbk'\u001b[0m\u001b[0;34m)\u001b[0m\u001b[0;34m\u001b[0m\u001b[0m\n\u001b[0;32m----> 3\u001b[0;31m \u001b[0mdf\u001b[0m\u001b[0;34m.\u001b[0m\u001b[0mto_csv\u001b[0m\u001b[0;34m(\u001b[0m\u001b[0;34m'test.csv'\u001b[0m\u001b[0;34m)\u001b[0m\u001b[0;34m\u001b[0m\u001b[0m\n\u001b[0m\u001b[1;32m      4\u001b[0m \u001b[0mprint\u001b[0m\u001b[0;34m(\u001b[0m\u001b[0mdf\u001b[0m\u001b[0;34m)\u001b[0m\u001b[0;34m\u001b[0m\u001b[0m\n",
      "\u001b[0;31mAttributeError\u001b[0m: 'list' object has no attribute 'to_csv'"
     ],
     "output_type": "error"
    }
   ],
   "source": [
    "import pandas as pd\n",
    "df = pd.read_html(s.content, encoding='gbk')\n",
    "# df.to_csv('test.csv')\n",
    "print(df)"
   ]
  },
  {
   "cell_type": "code",
   "execution_count": null,
   "metadata": {},
   "outputs": [],
   "source": [
    "\n",
    "# down vote\n",
    "# accepted\n",
    "# First you can read the data from the file and then parse it using\n",
    "\n",
    "from bs4 import BeautifulSoup\n",
    "import pandas as pd\n",
    "import lxml\n",
    "import html5lib\n",
    "\n",
    "path = 'file.html'\n",
    "with open(path, 'rt') as myfile:\n",
    "    data = myfile.read().replace(\"<br>\", '\\n')\n",
    "\n",
    "\n",
    "df = pd.read_html(data)"
   ]
  }
 ],
 "metadata": {
  "kernelspec": {
   "display_name": "Python 2",
   "language": "python",
   "name": "python2"
  },
  "language_info": {
   "codemirror_mode": {
    "name": "ipython",
    "version": 2
   },
   "file_extension": ".py",
   "mimetype": "text/x-python",
   "name": "python",
   "nbconvert_exporter": "python",
   "pygments_lexer": "ipython2",
   "version": "2.7.6"
  }
 },
 "nbformat": 4,
 "nbformat_minor": 0
}
